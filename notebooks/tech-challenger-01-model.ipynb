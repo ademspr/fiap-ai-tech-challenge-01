{
 "cells": [
  {
   "cell_type": "markdown",
   "id": "e701fa88",
   "metadata": {},
   "source": [
    "# FIAP IA para Dev\n",
    "## Tech Challenge Fase 01 - Modelo\n",
    "\n",
    "\n",
    "### Importação e Configuração"
   ]
  },
  {
   "cell_type": "code",
   "execution_count": 25,
   "id": "dd161dd5",
   "metadata": {},
   "outputs": [],
   "source": [
    "import warnings\n",
    "\n",
    "import matplotlib.pyplot as plt\n",
    "\n",
    "import pandas as pd\n",
    "from sklearn.ensemble import RandomForestClassifier\n",
    "from sklearn.metrics import accuracy_score, make_scorer, confusion_matrix, balanced_accuracy_score, roc_auc_score, \\\n",
    "    classification_report, roc_curve\n",
    "from sklearn.model_selection import train_test_split, cross_val_score, KFold, GridSearchCV\n",
    "from sklearn.neighbors import KNeighborsClassifier\n",
    "from sklearn.preprocessing import LabelEncoder\n",
    "from sklearn.preprocessing import MinMaxScaler\n",
    "from sklearn.tree import DecisionTreeClassifier\n",
    "\n",
    "warnings.filterwarnings('ignore')"
   ]
  },
  {
   "cell_type": "markdown",
   "id": "78277729",
   "metadata": {},
   "source": [
    "### Carregamento e Exploração dos Dados"
   ]
  },
  {
   "cell_type": "code",
   "execution_count": 26,
   "id": "5af14728",
   "metadata": {},
   "outputs": [
    {
     "data": {
      "text/html": [
       "<div>\n",
       "<style scoped>\n",
       "    .dataframe tbody tr th:only-of-type {\n",
       "        vertical-align: middle;\n",
       "    }\n",
       "\n",
       "    .dataframe tbody tr th {\n",
       "        vertical-align: top;\n",
       "    }\n",
       "\n",
       "    .dataframe thead th {\n",
       "        text-align: right;\n",
       "    }\n",
       "</style>\n",
       "<table border=\"1\" class=\"dataframe\">\n",
       "  <thead>\n",
       "    <tr style=\"text-align: right;\">\n",
       "      <th></th>\n",
       "      <th>ID</th>\n",
       "      <th>Country</th>\n",
       "      <th>Population_Size</th>\n",
       "      <th>Age</th>\n",
       "      <th>Gender</th>\n",
       "      <th>Smoker</th>\n",
       "      <th>Years_of_Smoking</th>\n",
       "      <th>Cigarettes_per_Day</th>\n",
       "      <th>Passive_Smoker</th>\n",
       "      <th>Family_History</th>\n",
       "      <th>...</th>\n",
       "      <th>Air_Pollution_Exposure</th>\n",
       "      <th>Occupational_Exposure</th>\n",
       "      <th>Indoor_Pollution</th>\n",
       "      <th>Healthcare_Access</th>\n",
       "      <th>Early_Detection</th>\n",
       "      <th>Treatment_Type</th>\n",
       "      <th>Developed_or_Developing</th>\n",
       "      <th>Annual_Lung_Cancer_Deaths</th>\n",
       "      <th>Lung_Cancer_Prevalence_Rate</th>\n",
       "      <th>Mortality_Rate</th>\n",
       "    </tr>\n",
       "  </thead>\n",
       "  <tbody>\n",
       "    <tr>\n",
       "      <th>0</th>\n",
       "      <td>0</td>\n",
       "      <td>China</td>\n",
       "      <td>1400</td>\n",
       "      <td>80</td>\n",
       "      <td>Male</td>\n",
       "      <td>Yes</td>\n",
       "      <td>30</td>\n",
       "      <td>29</td>\n",
       "      <td>No</td>\n",
       "      <td>No</td>\n",
       "      <td>...</td>\n",
       "      <td>Low</td>\n",
       "      <td>Yes</td>\n",
       "      <td>No</td>\n",
       "      <td>Poor</td>\n",
       "      <td>No</td>\n",
       "      <td>NaN</td>\n",
       "      <td>Developing</td>\n",
       "      <td>690000</td>\n",
       "      <td>2.44</td>\n",
       "      <td>0.0</td>\n",
       "    </tr>\n",
       "    <tr>\n",
       "      <th>1</th>\n",
       "      <td>1</td>\n",
       "      <td>Iran</td>\n",
       "      <td>84</td>\n",
       "      <td>53</td>\n",
       "      <td>Male</td>\n",
       "      <td>No</td>\n",
       "      <td>0</td>\n",
       "      <td>0</td>\n",
       "      <td>Yes</td>\n",
       "      <td>No</td>\n",
       "      <td>...</td>\n",
       "      <td>Low</td>\n",
       "      <td>Yes</td>\n",
       "      <td>No</td>\n",
       "      <td>Poor</td>\n",
       "      <td>No</td>\n",
       "      <td>NaN</td>\n",
       "      <td>Developing</td>\n",
       "      <td>27000</td>\n",
       "      <td>2.10</td>\n",
       "      <td>0.0</td>\n",
       "    </tr>\n",
       "    <tr>\n",
       "      <th>2</th>\n",
       "      <td>2</td>\n",
       "      <td>Mexico</td>\n",
       "      <td>128</td>\n",
       "      <td>47</td>\n",
       "      <td>Male</td>\n",
       "      <td>Yes</td>\n",
       "      <td>12</td>\n",
       "      <td>6</td>\n",
       "      <td>Yes</td>\n",
       "      <td>No</td>\n",
       "      <td>...</td>\n",
       "      <td>Medium</td>\n",
       "      <td>No</td>\n",
       "      <td>No</td>\n",
       "      <td>Poor</td>\n",
       "      <td>Yes</td>\n",
       "      <td>NaN</td>\n",
       "      <td>Developing</td>\n",
       "      <td>28000</td>\n",
       "      <td>1.11</td>\n",
       "      <td>0.0</td>\n",
       "    </tr>\n",
       "    <tr>\n",
       "      <th>3</th>\n",
       "      <td>3</td>\n",
       "      <td>Indonesia</td>\n",
       "      <td>273</td>\n",
       "      <td>39</td>\n",
       "      <td>Female</td>\n",
       "      <td>No</td>\n",
       "      <td>0</td>\n",
       "      <td>0</td>\n",
       "      <td>No</td>\n",
       "      <td>Yes</td>\n",
       "      <td>...</td>\n",
       "      <td>Low</td>\n",
       "      <td>No</td>\n",
       "      <td>No</td>\n",
       "      <td>Poor</td>\n",
       "      <td>No</td>\n",
       "      <td>NaN</td>\n",
       "      <td>Developing</td>\n",
       "      <td>40000</td>\n",
       "      <td>0.75</td>\n",
       "      <td>0.0</td>\n",
       "    </tr>\n",
       "    <tr>\n",
       "      <th>4</th>\n",
       "      <td>4</td>\n",
       "      <td>South Africa</td>\n",
       "      <td>59</td>\n",
       "      <td>44</td>\n",
       "      <td>Female</td>\n",
       "      <td>No</td>\n",
       "      <td>0</td>\n",
       "      <td>0</td>\n",
       "      <td>Yes</td>\n",
       "      <td>No</td>\n",
       "      <td>...</td>\n",
       "      <td>Medium</td>\n",
       "      <td>Yes</td>\n",
       "      <td>No</td>\n",
       "      <td>Poor</td>\n",
       "      <td>No</td>\n",
       "      <td>NaN</td>\n",
       "      <td>Developing</td>\n",
       "      <td>15000</td>\n",
       "      <td>2.44</td>\n",
       "      <td>0.0</td>\n",
       "    </tr>\n",
       "  </tbody>\n",
       "</table>\n",
       "<p>5 rows × 24 columns</p>\n",
       "</div>"
      ],
      "text/plain": [
       "   ID       Country  Population_Size  Age  Gender Smoker  Years_of_Smoking  \\\n",
       "0   0         China             1400   80    Male    Yes                30   \n",
       "1   1          Iran               84   53    Male     No                 0   \n",
       "2   2        Mexico              128   47    Male    Yes                12   \n",
       "3   3     Indonesia              273   39  Female     No                 0   \n",
       "4   4  South Africa               59   44  Female     No                 0   \n",
       "\n",
       "   Cigarettes_per_Day Passive_Smoker Family_History  ...  \\\n",
       "0                  29             No             No  ...   \n",
       "1                   0            Yes             No  ...   \n",
       "2                   6            Yes             No  ...   \n",
       "3                   0             No            Yes  ...   \n",
       "4                   0            Yes             No  ...   \n",
       "\n",
       "  Air_Pollution_Exposure Occupational_Exposure  Indoor_Pollution  \\\n",
       "0                    Low                   Yes                No   \n",
       "1                    Low                   Yes                No   \n",
       "2                 Medium                    No                No   \n",
       "3                    Low                    No                No   \n",
       "4                 Medium                   Yes                No   \n",
       "\n",
       "  Healthcare_Access Early_Detection Treatment_Type Developed_or_Developing  \\\n",
       "0              Poor              No            NaN              Developing   \n",
       "1              Poor              No            NaN              Developing   \n",
       "2              Poor             Yes            NaN              Developing   \n",
       "3              Poor              No            NaN              Developing   \n",
       "4              Poor              No            NaN              Developing   \n",
       "\n",
       "  Annual_Lung_Cancer_Deaths Lung_Cancer_Prevalence_Rate Mortality_Rate  \n",
       "0                    690000                        2.44            0.0  \n",
       "1                     27000                        2.10            0.0  \n",
       "2                     28000                        1.11            0.0  \n",
       "3                     40000                        0.75            0.0  \n",
       "4                     15000                        2.44            0.0  \n",
       "\n",
       "[5 rows x 24 columns]"
      ]
     },
     "execution_count": 26,
     "metadata": {},
     "output_type": "execute_result"
    }
   ],
   "source": [
    "# Carregando o dataset\n",
    "df = pd.read_csv('../data/lung_cancer_prediction_dataset.csv')\n",
    "df.head()"
   ]
  },
  {
   "cell_type": "code",
   "execution_count": 27,
   "id": "b09862f7",
   "metadata": {},
   "outputs": [
    {
     "name": "stdout",
     "output_type": "stream",
     "text": [
      "<class 'pandas.core.frame.DataFrame'>\n",
      "RangeIndex: 220632 entries, 0 to 220631\n",
      "Data columns (total 24 columns):\n",
      " #   Column                       Non-Null Count   Dtype  \n",
      "---  ------                       --------------   -----  \n",
      " 0   ID                           220632 non-null  int64  \n",
      " 1   Country                      220632 non-null  object \n",
      " 2   Population_Size              220632 non-null  int64  \n",
      " 3   Age                          220632 non-null  int64  \n",
      " 4   Gender                       220632 non-null  object \n",
      " 5   Smoker                       220632 non-null  object \n",
      " 6   Years_of_Smoking             220632 non-null  int64  \n",
      " 7   Cigarettes_per_Day           220632 non-null  int64  \n",
      " 8   Passive_Smoker               220632 non-null  object \n",
      " 9   Family_History               220632 non-null  object \n",
      " 10  Lung_Cancer_Diagnosis        220632 non-null  object \n",
      " 11  Cancer_Stage                 8961 non-null    object \n",
      " 12  Survival_Years               220632 non-null  int64  \n",
      " 13  Adenocarcinoma_Type          220632 non-null  object \n",
      " 14  Air_Pollution_Exposure       220632 non-null  object \n",
      " 15  Occupational_Exposure        220632 non-null  object \n",
      " 16  Indoor_Pollution             220632 non-null  object \n",
      " 17  Healthcare_Access            220632 non-null  object \n",
      " 18  Early_Detection              220632 non-null  object \n",
      " 19  Treatment_Type               6664 non-null    object \n",
      " 20  Developed_or_Developing      220632 non-null  object \n",
      " 21  Annual_Lung_Cancer_Deaths    220632 non-null  int64  \n",
      " 22  Lung_Cancer_Prevalence_Rate  220632 non-null  float64\n",
      " 23  Mortality_Rate               220632 non-null  float64\n",
      "dtypes: float64(2), int64(7), object(15)\n",
      "memory usage: 40.4+ MB\n"
     ]
    }
   ],
   "source": [
    "# Verificando as informações do dataset\n",
    "df.info()"
   ]
  },
  {
   "cell_type": "code",
   "execution_count": null,
   "id": "470d7a96",
   "metadata": {},
   "outputs": [
    {
     "data": {
      "text/plain": [
       "Lung_Cancer_Diagnosis\n",
       "No     0.959385\n",
       "Yes    0.040615\n",
       "Name: proportion, dtype: float64"
      ]
     },
     "execution_count": 28,
     "metadata": {},
     "output_type": "execute_result"
    }
   ],
   "source": [
    "# Verificando a distribuição da target, como podemos ver a uma grande incidencia de \"No\" que pode indicar um desbalanceamento nas classes (muito mais casos \"No\" que \"Yes\"). \n",
    "# Isso é crucial pois modelos tendem a ficar enviesados para a classe majoritária.\n",
    "df['Lung_Cancer_Diagnosis'].value_counts(normalize=True)"
   ]
  },
  {
   "cell_type": "code",
   "execution_count": null,
   "id": "dd2db4f0",
   "metadata": {},
   "outputs": [
    {
     "data": {
      "text/plain": [
       "Index(['Country', 'Gender', 'Smoker', 'Passive_Smoker', 'Family_History',\n",
       "       'Lung_Cancer_Diagnosis', 'Cancer_Stage', 'Adenocarcinoma_Type',\n",
       "       'Air_Pollution_Exposure', 'Occupational_Exposure', 'Indoor_Pollution',\n",
       "       'Healthcare_Access', 'Early_Detection', 'Treatment_Type',\n",
       "       'Developed_or_Developing'],\n",
       "      dtype='object')"
      ]
     },
     "execution_count": 29,
     "metadata": {},
     "output_type": "execute_result"
    }
   ],
   "source": [
    "# Obtendo as colunas categóricas, para posterior transformação\n",
    "df.select_dtypes(include=['object']).columns"
   ]
  },
  {
   "cell_type": "code",
   "execution_count": null,
   "id": "0b773227",
   "metadata": {},
   "outputs": [
    {
     "data": {
      "text/plain": [
       "ID                                  0\n",
       "Country                             0\n",
       "Population_Size                     0\n",
       "Age                                 0\n",
       "Gender                              0\n",
       "Smoker                              0\n",
       "Years_of_Smoking                    0\n",
       "Cigarettes_per_Day                  0\n",
       "Passive_Smoker                      0\n",
       "Family_History                      0\n",
       "Lung_Cancer_Diagnosis               0\n",
       "Cancer_Stage                   211671\n",
       "Survival_Years                      0\n",
       "Adenocarcinoma_Type                 0\n",
       "Air_Pollution_Exposure              0\n",
       "Occupational_Exposure               0\n",
       "Indoor_Pollution                    0\n",
       "Healthcare_Access                   0\n",
       "Early_Detection                     0\n",
       "Treatment_Type                 213968\n",
       "Developed_or_Developing             0\n",
       "Annual_Lung_Cancer_Deaths           0\n",
       "Lung_Cancer_Prevalence_Rate         0\n",
       "Mortality_Rate                      0\n",
       "dtype: int64"
      ]
     },
     "execution_count": 30,
     "metadata": {},
     "output_type": "execute_result"
    }
   ],
   "source": [
    "# Verificando as colunas nulas, como as nulas são Cancer_Stage e Treatment_Type\n",
    "df.isna().sum()"
   ]
  },
  {
   "cell_type": "markdown",
   "id": "f2a3d794",
   "metadata": {},
   "source": [
    "### Pré-processamento"
   ]
  },
  {
   "cell_type": "code",
   "execution_count": null,
   "id": "899e475f",
   "metadata": {},
   "outputs": [],
   "source": [
    "# Substitui valores nulos por \"Unknown\" em vez de deletar registros, preservando o tamanho do dataset.\n",
    "df.fillna('Unknown', inplace=True)"
   ]
  },
  {
   "cell_type": "code",
   "execution_count": null,
   "id": "c852aaee",
   "metadata": {},
   "outputs": [
    {
     "data": {
      "text/html": [
       "<div>\n",
       "<style scoped>\n",
       "    .dataframe tbody tr th:only-of-type {\n",
       "        vertical-align: middle;\n",
       "    }\n",
       "\n",
       "    .dataframe tbody tr th {\n",
       "        vertical-align: top;\n",
       "    }\n",
       "\n",
       "    .dataframe thead th {\n",
       "        text-align: right;\n",
       "    }\n",
       "</style>\n",
       "<table border=\"1\" class=\"dataframe\">\n",
       "  <thead>\n",
       "    <tr style=\"text-align: right;\">\n",
       "      <th></th>\n",
       "      <th>ID</th>\n",
       "      <th>Country</th>\n",
       "      <th>Population_Size</th>\n",
       "      <th>Age</th>\n",
       "      <th>Gender</th>\n",
       "      <th>Smoker</th>\n",
       "      <th>Years_of_Smoking</th>\n",
       "      <th>Cigarettes_per_Day</th>\n",
       "      <th>Passive_Smoker</th>\n",
       "      <th>Family_History</th>\n",
       "      <th>...</th>\n",
       "      <th>Air_Pollution_Exposure</th>\n",
       "      <th>Occupational_Exposure</th>\n",
       "      <th>Indoor_Pollution</th>\n",
       "      <th>Healthcare_Access</th>\n",
       "      <th>Early_Detection</th>\n",
       "      <th>Treatment_Type</th>\n",
       "      <th>Developed_or_Developing</th>\n",
       "      <th>Annual_Lung_Cancer_Deaths</th>\n",
       "      <th>Lung_Cancer_Prevalence_Rate</th>\n",
       "      <th>Mortality_Rate</th>\n",
       "    </tr>\n",
       "  </thead>\n",
       "  <tbody>\n",
       "    <tr>\n",
       "      <th>0</th>\n",
       "      <td>0</td>\n",
       "      <td>2</td>\n",
       "      <td>1400</td>\n",
       "      <td>80</td>\n",
       "      <td>1</td>\n",
       "      <td>1</td>\n",
       "      <td>30</td>\n",
       "      <td>29</td>\n",
       "      <td>0</td>\n",
       "      <td>0</td>\n",
       "      <td>...</td>\n",
       "      <td>1</td>\n",
       "      <td>1</td>\n",
       "      <td>0</td>\n",
       "      <td>1</td>\n",
       "      <td>0</td>\n",
       "      <td>3</td>\n",
       "      <td>1</td>\n",
       "      <td>690000</td>\n",
       "      <td>2.44</td>\n",
       "      <td>0.0</td>\n",
       "    </tr>\n",
       "    <tr>\n",
       "      <th>1</th>\n",
       "      <td>1</td>\n",
       "      <td>10</td>\n",
       "      <td>84</td>\n",
       "      <td>53</td>\n",
       "      <td>1</td>\n",
       "      <td>0</td>\n",
       "      <td>0</td>\n",
       "      <td>0</td>\n",
       "      <td>1</td>\n",
       "      <td>0</td>\n",
       "      <td>...</td>\n",
       "      <td>1</td>\n",
       "      <td>1</td>\n",
       "      <td>0</td>\n",
       "      <td>1</td>\n",
       "      <td>0</td>\n",
       "      <td>3</td>\n",
       "      <td>1</td>\n",
       "      <td>27000</td>\n",
       "      <td>2.10</td>\n",
       "      <td>0.0</td>\n",
       "    </tr>\n",
       "    <tr>\n",
       "      <th>2</th>\n",
       "      <td>2</td>\n",
       "      <td>13</td>\n",
       "      <td>128</td>\n",
       "      <td>47</td>\n",
       "      <td>1</td>\n",
       "      <td>1</td>\n",
       "      <td>12</td>\n",
       "      <td>6</td>\n",
       "      <td>1</td>\n",
       "      <td>0</td>\n",
       "      <td>...</td>\n",
       "      <td>2</td>\n",
       "      <td>0</td>\n",
       "      <td>0</td>\n",
       "      <td>1</td>\n",
       "      <td>1</td>\n",
       "      <td>3</td>\n",
       "      <td>1</td>\n",
       "      <td>28000</td>\n",
       "      <td>1.11</td>\n",
       "      <td>0.0</td>\n",
       "    </tr>\n",
       "    <tr>\n",
       "      <th>3</th>\n",
       "      <td>3</td>\n",
       "      <td>9</td>\n",
       "      <td>273</td>\n",
       "      <td>39</td>\n",
       "      <td>0</td>\n",
       "      <td>0</td>\n",
       "      <td>0</td>\n",
       "      <td>0</td>\n",
       "      <td>0</td>\n",
       "      <td>1</td>\n",
       "      <td>...</td>\n",
       "      <td>1</td>\n",
       "      <td>0</td>\n",
       "      <td>0</td>\n",
       "      <td>1</td>\n",
       "      <td>0</td>\n",
       "      <td>3</td>\n",
       "      <td>1</td>\n",
       "      <td>40000</td>\n",
       "      <td>0.75</td>\n",
       "      <td>0.0</td>\n",
       "    </tr>\n",
       "    <tr>\n",
       "      <th>4</th>\n",
       "      <td>4</td>\n",
       "      <td>19</td>\n",
       "      <td>59</td>\n",
       "      <td>44</td>\n",
       "      <td>0</td>\n",
       "      <td>0</td>\n",
       "      <td>0</td>\n",
       "      <td>0</td>\n",
       "      <td>1</td>\n",
       "      <td>0</td>\n",
       "      <td>...</td>\n",
       "      <td>2</td>\n",
       "      <td>1</td>\n",
       "      <td>0</td>\n",
       "      <td>1</td>\n",
       "      <td>0</td>\n",
       "      <td>3</td>\n",
       "      <td>1</td>\n",
       "      <td>15000</td>\n",
       "      <td>2.44</td>\n",
       "      <td>0.0</td>\n",
       "    </tr>\n",
       "  </tbody>\n",
       "</table>\n",
       "<p>5 rows × 24 columns</p>\n",
       "</div>"
      ],
      "text/plain": [
       "   ID  Country  Population_Size  Age  Gender  Smoker  Years_of_Smoking  \\\n",
       "0   0        2             1400   80       1       1                30   \n",
       "1   1       10               84   53       1       0                 0   \n",
       "2   2       13              128   47       1       1                12   \n",
       "3   3        9              273   39       0       0                 0   \n",
       "4   4       19               59   44       0       0                 0   \n",
       "\n",
       "   Cigarettes_per_Day  Passive_Smoker  Family_History  ...  \\\n",
       "0                  29               0               0  ...   \n",
       "1                   0               1               0  ...   \n",
       "2                   6               1               0  ...   \n",
       "3                   0               0               1  ...   \n",
       "4                   0               1               0  ...   \n",
       "\n",
       "   Air_Pollution_Exposure  Occupational_Exposure  Indoor_Pollution  \\\n",
       "0                       1                      1                 0   \n",
       "1                       1                      1                 0   \n",
       "2                       2                      0                 0   \n",
       "3                       1                      0                 0   \n",
       "4                       2                      1                 0   \n",
       "\n",
       "   Healthcare_Access  Early_Detection  Treatment_Type  \\\n",
       "0                  1                0               3   \n",
       "1                  1                0               3   \n",
       "2                  1                1               3   \n",
       "3                  1                0               3   \n",
       "4                  1                0               3   \n",
       "\n",
       "   Developed_or_Developing  Annual_Lung_Cancer_Deaths  \\\n",
       "0                        1                     690000   \n",
       "1                        1                      27000   \n",
       "2                        1                      28000   \n",
       "3                        1                      40000   \n",
       "4                        1                      15000   \n",
       "\n",
       "   Lung_Cancer_Prevalence_Rate  Mortality_Rate  \n",
       "0                         2.44             0.0  \n",
       "1                         2.10             0.0  \n",
       "2                         1.11             0.0  \n",
       "3                         0.75             0.0  \n",
       "4                         2.44             0.0  \n",
       "\n",
       "[5 rows x 24 columns]"
      ]
     },
     "execution_count": 32,
     "metadata": {},
     "output_type": "execute_result"
    }
   ],
   "source": [
    "# Normalizando as colunas categoricas, como há um grande numero de colunas e as colunas categoricas nao passam de 4 possíveis valores, \n",
    "# utilizamos o LabelEncoder no lugar do OneHot para não criar mais colunas\n",
    "le = LabelEncoder()\n",
    "for col in df.select_dtypes(include=['object']).columns:\n",
    "    df[col] = le.fit_transform(df[col])\n",
    "\n",
    "df.head()"
   ]
  },
  {
   "cell_type": "code",
   "execution_count": null,
   "id": "0fd7b432",
   "metadata": {},
   "outputs": [
    {
     "data": {
      "text/plain": [
       "ID                             0\n",
       "Country                        0\n",
       "Population_Size                0\n",
       "Age                            0\n",
       "Gender                         0\n",
       "Smoker                         0\n",
       "Years_of_Smoking               0\n",
       "Cigarettes_per_Day             0\n",
       "Passive_Smoker                 0\n",
       "Family_History                 0\n",
       "Lung_Cancer_Diagnosis          0\n",
       "Cancer_Stage                   0\n",
       "Survival_Years                 0\n",
       "Adenocarcinoma_Type            0\n",
       "Air_Pollution_Exposure         0\n",
       "Occupational_Exposure          0\n",
       "Indoor_Pollution               0\n",
       "Healthcare_Access              0\n",
       "Early_Detection                0\n",
       "Treatment_Type                 0\n",
       "Developed_or_Developing        0\n",
       "Annual_Lung_Cancer_Deaths      0\n",
       "Lung_Cancer_Prevalence_Rate    0\n",
       "Mortality_Rate                 0\n",
       "dtype: int64"
      ]
     },
     "execution_count": 33,
     "metadata": {},
     "output_type": "execute_result"
    }
   ],
   "source": [
    "# Verificando se sobrou alguma coluna com valores nulos\n",
    "df.isna().sum()"
   ]
  },
  {
   "cell_type": "code",
   "execution_count": null,
   "id": "3224cdfe",
   "metadata": {},
   "outputs": [],
   "source": [
    "# Definindo as features, baseado na analise exploratoria \n",
    "features = ['Population_Size', 'Country', 'Age', 'Gender', 'Smoker', 'Years_of_Smoking', 'Cigarettes_per_Day'\n",
    "    , 'Passive_Smoker', 'Family_History', 'Lung_Cancer_Diagnosis', 'Air_Pollution_Exposure',\n",
    "            'Occupational_Exposure', 'Indoor_Pollution']"
   ]
  },
  {
   "cell_type": "code",
   "execution_count": 35,
   "id": "04d06124",
   "metadata": {},
   "outputs": [
    {
     "data": {
      "text/plain": [
       "np.int64(67737)"
      ]
     },
     "execution_count": 35,
     "metadata": {},
     "output_type": "execute_result"
    }
   ],
   "source": [
    "# Verificando registros duplicados\n",
    "df[features].duplicated().sum()"
   ]
  },
  {
   "cell_type": "code",
   "execution_count": null,
   "id": "e00edf39",
   "metadata": {},
   "outputs": [],
   "source": [
    "# Realizando a normalização com o MinMaxScaler colocando os valores entre 0 ou 1 para manter a escala, uma variavel com valores maiores dominaria as outras\n",
    "\n",
    "mm_scaler = MinMaxScaler()\n",
    "\n",
    "df['Population_Size'] = mm_scaler.fit_transform(df[['Population_Size']])\n",
    "df['Age'] = mm_scaler.fit_transform(df[['Age']])\n",
    "df['Years_of_Smoking'] = mm_scaler.fit_transform(df[['Years_of_Smoking']])\n",
    "df['Cigarettes_per_Day'] = mm_scaler.fit_transform(df[['Cigarettes_per_Day']])\n",
    "df['Annual_Lung_Cancer_Deaths'] = mm_scaler.fit_transform(df[['Annual_Lung_Cancer_Deaths']])\n",
    "df['Lung_Cancer_Prevalence_Rate'] = mm_scaler.fit_transform(df[['Lung_Cancer_Prevalence_Rate']])\n"
   ]
  },
  {
   "cell_type": "code",
   "execution_count": null,
   "id": "5ea387b0",
   "metadata": {},
   "outputs": [
    {
     "data": {
      "text/html": [
       "<div>\n",
       "<style scoped>\n",
       "    .dataframe tbody tr th:only-of-type {\n",
       "        vertical-align: middle;\n",
       "    }\n",
       "\n",
       "    .dataframe tbody tr th {\n",
       "        vertical-align: top;\n",
       "    }\n",
       "\n",
       "    .dataframe thead th {\n",
       "        text-align: right;\n",
       "    }\n",
       "</style>\n",
       "<table border=\"1\" class=\"dataframe\">\n",
       "  <thead>\n",
       "    <tr style=\"text-align: right;\">\n",
       "      <th></th>\n",
       "      <th>Population_Size</th>\n",
       "      <th>Country</th>\n",
       "      <th>Age</th>\n",
       "      <th>Gender</th>\n",
       "      <th>Smoker</th>\n",
       "      <th>Years_of_Smoking</th>\n",
       "      <th>Cigarettes_per_Day</th>\n",
       "      <th>Passive_Smoker</th>\n",
       "      <th>Family_History</th>\n",
       "      <th>Lung_Cancer_Diagnosis</th>\n",
       "      <th>Air_Pollution_Exposure</th>\n",
       "      <th>Occupational_Exposure</th>\n",
       "      <th>Indoor_Pollution</th>\n",
       "    </tr>\n",
       "  </thead>\n",
       "  <tbody>\n",
       "    <tr>\n",
       "      <th>0</th>\n",
       "      <td>1.000000</td>\n",
       "      <td>2</td>\n",
       "      <td>0.923077</td>\n",
       "      <td>1</td>\n",
       "      <td>1</td>\n",
       "      <td>0.75</td>\n",
       "      <td>0.966667</td>\n",
       "      <td>0</td>\n",
       "      <td>0</td>\n",
       "      <td>0</td>\n",
       "      <td>1</td>\n",
       "      <td>1</td>\n",
       "      <td>0</td>\n",
       "    </tr>\n",
       "    <tr>\n",
       "      <th>1</th>\n",
       "      <td>0.022288</td>\n",
       "      <td>10</td>\n",
       "      <td>0.507692</td>\n",
       "      <td>1</td>\n",
       "      <td>0</td>\n",
       "      <td>0.00</td>\n",
       "      <td>0.000000</td>\n",
       "      <td>1</td>\n",
       "      <td>0</td>\n",
       "      <td>0</td>\n",
       "      <td>1</td>\n",
       "      <td>1</td>\n",
       "      <td>0</td>\n",
       "    </tr>\n",
       "    <tr>\n",
       "      <th>2</th>\n",
       "      <td>0.054978</td>\n",
       "      <td>13</td>\n",
       "      <td>0.415385</td>\n",
       "      <td>1</td>\n",
       "      <td>1</td>\n",
       "      <td>0.30</td>\n",
       "      <td>0.200000</td>\n",
       "      <td>1</td>\n",
       "      <td>0</td>\n",
       "      <td>0</td>\n",
       "      <td>2</td>\n",
       "      <td>0</td>\n",
       "      <td>0</td>\n",
       "    </tr>\n",
       "    <tr>\n",
       "      <th>3</th>\n",
       "      <td>0.162704</td>\n",
       "      <td>9</td>\n",
       "      <td>0.292308</td>\n",
       "      <td>0</td>\n",
       "      <td>0</td>\n",
       "      <td>0.00</td>\n",
       "      <td>0.000000</td>\n",
       "      <td>0</td>\n",
       "      <td>1</td>\n",
       "      <td>0</td>\n",
       "      <td>1</td>\n",
       "      <td>0</td>\n",
       "      <td>0</td>\n",
       "    </tr>\n",
       "    <tr>\n",
       "      <th>4</th>\n",
       "      <td>0.003715</td>\n",
       "      <td>19</td>\n",
       "      <td>0.369231</td>\n",
       "      <td>0</td>\n",
       "      <td>0</td>\n",
       "      <td>0.00</td>\n",
       "      <td>0.000000</td>\n",
       "      <td>1</td>\n",
       "      <td>0</td>\n",
       "      <td>0</td>\n",
       "      <td>2</td>\n",
       "      <td>1</td>\n",
       "      <td>0</td>\n",
       "    </tr>\n",
       "    <tr>\n",
       "      <th>...</th>\n",
       "      <td>...</td>\n",
       "      <td>...</td>\n",
       "      <td>...</td>\n",
       "      <td>...</td>\n",
       "      <td>...</td>\n",
       "      <td>...</td>\n",
       "      <td>...</td>\n",
       "      <td>...</td>\n",
       "      <td>...</td>\n",
       "      <td>...</td>\n",
       "      <td>...</td>\n",
       "      <td>...</td>\n",
       "      <td>...</td>\n",
       "    </tr>\n",
       "    <tr>\n",
       "      <th>220624</th>\n",
       "      <td>0.118128</td>\n",
       "      <td>1</td>\n",
       "      <td>0.553846</td>\n",
       "      <td>0</td>\n",
       "      <td>0</td>\n",
       "      <td>0.00</td>\n",
       "      <td>0.000000</td>\n",
       "      <td>1</td>\n",
       "      <td>0</td>\n",
       "      <td>0</td>\n",
       "      <td>1</td>\n",
       "      <td>0</td>\n",
       "      <td>1</td>\n",
       "    </tr>\n",
       "    <tr>\n",
       "      <th>220625</th>\n",
       "      <td>0.030461</td>\n",
       "      <td>3</td>\n",
       "      <td>0.646154</td>\n",
       "      <td>0</td>\n",
       "      <td>1</td>\n",
       "      <td>0.20</td>\n",
       "      <td>0.833333</td>\n",
       "      <td>1</td>\n",
       "      <td>0</td>\n",
       "      <td>0</td>\n",
       "      <td>0</td>\n",
       "      <td>0</td>\n",
       "      <td>1</td>\n",
       "    </tr>\n",
       "    <tr>\n",
       "      <th>220626</th>\n",
       "      <td>0.011887</td>\n",
       "      <td>20</td>\n",
       "      <td>0.246154</td>\n",
       "      <td>0</td>\n",
       "      <td>1</td>\n",
       "      <td>1.00</td>\n",
       "      <td>0.866667</td>\n",
       "      <td>1</td>\n",
       "      <td>0</td>\n",
       "      <td>0</td>\n",
       "      <td>0</td>\n",
       "      <td>0</td>\n",
       "      <td>0</td>\n",
       "    </tr>\n",
       "    <tr>\n",
       "      <th>220627</th>\n",
       "      <td>0.011887</td>\n",
       "      <td>20</td>\n",
       "      <td>0.538462</td>\n",
       "      <td>1</td>\n",
       "      <td>1</td>\n",
       "      <td>0.10</td>\n",
       "      <td>0.333333</td>\n",
       "      <td>0</td>\n",
       "      <td>1</td>\n",
       "      <td>0</td>\n",
       "      <td>2</td>\n",
       "      <td>0</td>\n",
       "      <td>0</td>\n",
       "    </tr>\n",
       "    <tr>\n",
       "      <th>220630</th>\n",
       "      <td>0.049034</td>\n",
       "      <td>5</td>\n",
       "      <td>0.246154</td>\n",
       "      <td>1</td>\n",
       "      <td>0</td>\n",
       "      <td>0.00</td>\n",
       "      <td>0.000000</td>\n",
       "      <td>1</td>\n",
       "      <td>1</td>\n",
       "      <td>0</td>\n",
       "      <td>0</td>\n",
       "      <td>0</td>\n",
       "      <td>0</td>\n",
       "    </tr>\n",
       "  </tbody>\n",
       "</table>\n",
       "<p>152895 rows × 13 columns</p>\n",
       "</div>"
      ],
      "text/plain": [
       "        Population_Size  Country       Age  Gender  Smoker  Years_of_Smoking  \\\n",
       "0              1.000000        2  0.923077       1       1              0.75   \n",
       "1              0.022288       10  0.507692       1       0              0.00   \n",
       "2              0.054978       13  0.415385       1       1              0.30   \n",
       "3              0.162704        9  0.292308       0       0              0.00   \n",
       "4              0.003715       19  0.369231       0       0              0.00   \n",
       "...                 ...      ...       ...     ...     ...               ...   \n",
       "220624         0.118128        1  0.553846       0       0              0.00   \n",
       "220625         0.030461        3  0.646154       0       1              0.20   \n",
       "220626         0.011887       20  0.246154       0       1              1.00   \n",
       "220627         0.011887       20  0.538462       1       1              0.10   \n",
       "220630         0.049034        5  0.246154       1       0              0.00   \n",
       "\n",
       "        Cigarettes_per_Day  Passive_Smoker  Family_History  \\\n",
       "0                 0.966667               0               0   \n",
       "1                 0.000000               1               0   \n",
       "2                 0.200000               1               0   \n",
       "3                 0.000000               0               1   \n",
       "4                 0.000000               1               0   \n",
       "...                    ...             ...             ...   \n",
       "220624            0.000000               1               0   \n",
       "220625            0.833333               1               0   \n",
       "220626            0.866667               1               0   \n",
       "220627            0.333333               0               1   \n",
       "220630            0.000000               1               1   \n",
       "\n",
       "        Lung_Cancer_Diagnosis  Air_Pollution_Exposure  Occupational_Exposure  \\\n",
       "0                           0                       1                      1   \n",
       "1                           0                       1                      1   \n",
       "2                           0                       2                      0   \n",
       "3                           0                       1                      0   \n",
       "4                           0                       2                      1   \n",
       "...                       ...                     ...                    ...   \n",
       "220624                      0                       1                      0   \n",
       "220625                      0                       0                      0   \n",
       "220626                      0                       0                      0   \n",
       "220627                      0                       2                      0   \n",
       "220630                      0                       0                      0   \n",
       "\n",
       "        Indoor_Pollution  \n",
       "0                      0  \n",
       "1                      0  \n",
       "2                      0  \n",
       "3                      0  \n",
       "4                      0  \n",
       "...                  ...  \n",
       "220624                 1  \n",
       "220625                 1  \n",
       "220626                 0  \n",
       "220627                 0  \n",
       "220630                 0  \n",
       "\n",
       "[152895 rows x 13 columns]"
      ]
     },
     "execution_count": 37,
     "metadata": {},
     "output_type": "execute_result"
    }
   ],
   "source": [
    "# Excluindo registros com valores duplicados e criando um dataset limpo\n",
    "df_clean = df[features].drop_duplicates()\n",
    "df_processed = df_clean.copy()\n",
    "\n",
    "df_processed"
   ]
  },
  {
   "cell_type": "markdown",
   "id": "760135dd",
   "metadata": {},
   "source": [
    "### Análise de correlação da variável target"
   ]
  },
  {
   "cell_type": "code",
   "execution_count": null,
   "id": "00558138",
   "metadata": {},
   "outputs": [
    {
     "data": {
      "image/png": "[encoded data removed]",
      "text/plain": [
       "<Figure size 1200x800 with 2 Axes>"
      ]
     },
     "metadata": {},
     "output_type": "display_data"
    }
   ],
   "source": [
    "# Verificando correlação das variaveis, \n",
    "import seaborn as sns\n",
    "\n",
    "correlation_matrix = df_processed.corr()\n",
    "\n",
    "plt.figure(figsize=(12, 8))\n",
    "sns.heatmap(correlation_matrix, annot=True, fmt=\".2f\", cmap='coolwarm', square=True)\n",
    "plt.title('Correlation Matrix')\n",
    "plt.show()"
   ]
  },
  {
   "cell_type": "code",
   "execution_count": 39,
   "id": "4544f327",
   "metadata": {},
   "outputs": [
    {
     "name": "stdout",
     "output_type": "stream",
     "text": [
      "Lung_Cancer_Diagnosis     1.000000\n",
      "Smoker                    0.063362\n",
      "Cigarettes_per_Day        0.052988\n",
      "Years_of_Smoking          0.047823\n",
      "Family_History            0.027244\n",
      "Indoor_Pollution          0.023985\n",
      "Air_Pollution_Exposure    0.015622\n",
      "Passive_Smoker            0.014880\n",
      "Occupational_Exposure     0.013914\n",
      "Gender                    0.009839\n",
      "Population_Size           0.005743\n",
      "Age                       0.001253\n",
      "Country                   0.001016\n",
      "Name: Lung_Cancer_Diagnosis, dtype: float64\n"
     ]
    }
   ],
   "source": [
    "# Verificando correlacao com a target\n",
    "target_correlations = correlation_matrix['Lung_Cancer_Diagnosis'].abs().sort_values(ascending=False)\n",
    "print(target_correlations)"
   ]
  },
  {
   "cell_type": "markdown",
   "id": "9004088b",
   "metadata": {},
   "source": [
    "### Preparação para Modelagem"
   ]
  },
  {
   "cell_type": "code",
   "execution_count": 40,
   "id": "d03fcc94",
   "metadata": {},
   "outputs": [],
   "source": [
    "y = df_processed['Lung_Cancer_Diagnosis']\n",
    "X = df_processed.drop(columns=['Lung_Cancer_Diagnosis'])"
   ]
  },
  {
   "cell_type": "code",
   "execution_count": 41,
   "id": "ce2e46a2",
   "metadata": {},
   "outputs": [
    {
     "name": "stdout",
     "output_type": "stream",
     "text": [
      "Shape das features: (152895, 12)\n",
      "Shape do target: (152895,)\n",
      "Distribuição do target: {0: 144011, 1: 8884}\n"
     ]
    }
   ],
   "source": [
    "print(f\"Shape das features: {X.shape}\")\n",
    "print(f\"Shape do target: {y.shape}\")\n",
    "print(f\"Distribuição do target: {y.value_counts().to_dict()}\")"
   ]
  },
  {
   "cell_type": "code",
   "execution_count": 42,
   "id": "23bb6f03",
   "metadata": {},
   "outputs": [],
   "source": [
    "# Dividindo o dataset em treino e teste\n",
    "X_train, X_test, y_train, y_test = train_test_split(X, y, test_size=0.2, stratify=y, random_state=42)"
   ]
  },
  {
   "cell_type": "code",
   "execution_count": 43,
   "id": "d985a8aa",
   "metadata": {},
   "outputs": [
    {
     "name": "stdout",
     "output_type": "stream",
     "text": [
      "Tamanho do conjunto de treino: (122316, 12)\n",
      "Tamanho do conjunto de teste: (30579, 12)\n",
      "Distribuição no treino: {0: 115209, 1: 7107}\n",
      "Distribuição no teste: {0: 28802, 1: 1777}\n"
     ]
    }
   ],
   "source": [
    "print(f\"Tamanho do conjunto de treino: {X_train.shape}\")\n",
    "print(f\"Tamanho do conjunto de teste: {X_test.shape}\")\n",
    "print(f\"Distribuição no treino: {y_train.value_counts().to_dict()}\")\n",
    "print(f\"Distribuição no teste: {y_test.value_counts().to_dict()}\")"
   ]
  },
  {
   "cell_type": "markdown",
   "id": "b2310c5a",
   "metadata": {},
   "source": [
    "### Balanceamento dos Dados\n",
    "\n",
    "Como há muita incidencia de \"No\" isso pode levar o modelo a um overfitting com essa predição, por isso iremos realizar o balanceamos de dados e porteriormente definir qual dele usar com base na acurácia"
   ]
  },
  {
   "cell_type": "code",
   "execution_count": null,
   "id": "bcfca299",
   "metadata": {},
   "outputs": [],
   "source": [
    "# Reduz a classe majoritaria para balancear o dataset. O sampling_strategy=0.5 significa que a classe minoritária terá 50% do tamanho da majoritaria.\n",
    "from imblearn.under_sampling import RandomUnderSampler\n",
    "\n",
    "rus = RandomUnderSampler(sampling_strategy=0.5)\n",
    "x_train_rus, y_train_rus = rus.fit_resample(X, y)"
   ]
  },
  {
   "cell_type": "code",
   "execution_count": null,
   "id": "1ae94f8c",
   "metadata": {},
   "outputs": [],
   "source": [
    "# Aumenta a classe minoritaria criando exemplos sinteticos. Ajuda o modelo a aprender melhor padrões da classe menos frequente.\n",
    "from imblearn.over_sampling import RandomOverSampler\n",
    "\n",
    "ros = RandomOverSampler(shrinkage=0.1)\n",
    "\n",
    "x_train_ros, y_train_ros = ros.fit_resample(X, y)"
   ]
  },
  {
   "cell_type": "markdown",
   "id": "b3f1b3b9",
   "metadata": {},
   "source": [
    "### Modelagem e Avaliação\n",
    "\n",
    "Testa 3 algoritmos diferentes com validação cruzada (5-fold) para ter uma estimativa mais confiável da performance. Cada algoritmo tem características diferentes:\n",
    "\n",
    "KNN: Simples, baseado em similaridade\n",
    "Random Forest: Robusto, ensemble de árvores\n",
    "Decision Tree: Interpretável, fácil de entende"
   ]
  },
  {
   "cell_type": "code",
   "execution_count": 46,
   "id": "3feaeda4",
   "metadata": {},
   "outputs": [],
   "source": [
    "def evaluate_models(x_data, y_data):\n",
    "    models = {\n",
    "        'KNN': KNeighborsClassifier(),\n",
    "        'Random Forest': RandomForestClassifier(),\n",
    "        'Decision Tree': DecisionTreeClassifier()\n",
    "    }\n",
    "\n",
    "    results = {}\n",
    "    kfold = KFold(n_splits=5, shuffle=True, random_state=42)\n",
    "    for name, model in models.items():\n",
    "        cv_results = cross_val_score(model, x_data, y_data, cv=kfold, scoring='accuracy')\n",
    "        results[name] = {\n",
    "            'mean_accuracy': cv_results.mean(),\n",
    "            'std_accuracy': cv_results.std(),\n",
    "            'data': (x_data, y_data)\n",
    "        }\n",
    "        print(f\"{name}: {cv_results.mean():.4f} (+/- {cv_results.std() * 2:.4f})\")\n",
    "    return results"
   ]
  },
  {
   "cell_type": "code",
   "execution_count": null,
   "id": "44677807",
   "metadata": {},
   "outputs": [
    {
     "name": "stdout",
     "output_type": "stream",
     "text": [
      "Avaliando Resultados:\n",
      "Original:\n",
      "KNN: 0.9398 (+/- 0.0032)\n",
      "Random Forest: 0.9311 (+/- 0.0037)\n",
      "Decision Tree: 0.8737 (+/- 0.0050)\n",
      "\n",
      "\n",
      "Com Amostragem Subamostrada\n",
      "KNN: 0.6086 (+/- 0.0055)\n",
      "Random Forest: 0.6179 (+/- 0.0120)\n",
      "Decision Tree: 0.5535 (+/- 0.0076)\n",
      "\n",
      "\n",
      "Com Amostragem Sobreamostrada\n",
      "KNN: 0.7643 (+/- 0.0028)\n",
      "Random Forest: 0.9466 (+/- 0.0012)\n",
      "Decision Tree: 0.9304 (+/- 0.0009)\n"
     ]
    }
   ],
   "source": [
    "# Comparando a performance dos modelos com diferentes estrategias de balanceamento para escolher a melhor abordagem\n",
    "print(\"Avaliando Resultados:\")\n",
    "\n",
    "print(\"Original:\")\n",
    "results_original = evaluate_models(X_train, y_train)\n",
    "print(\"\\n\")\n",
    "print(\"Com Amostragem Subamostrada\")\n",
    "results_rus = evaluate_models(x_train_rus, y_train_rus)\n",
    "print(\"\\n\")\n",
    "print(\"Com Amostragem Sobreamostrada\")\n",
    "results_ros = evaluate_models(x_train_ros, y_train_ros)\n"
   ]
  },
  {
   "cell_type": "code",
   "execution_count": null,
   "id": "4ad333e3",
   "metadata": {},
   "outputs": [
    {
     "data": {
      "image/png": "[encoded data removed]",
      "text/plain": [
       "<Figure size 1800x600 with 3 Axes>"
      ]
     },
     "metadata": {},
     "output_type": "display_data"
    }
   ],
   "source": [
    "fig, axes = plt.subplots(1, 3, figsize=(18, 6))\n",
    "\n",
    "\n",
    "def plot_cv_results(results, title, ax):\n",
    "    models = list(results.keys())\n",
    "    means = [results[model]['mean_accuracy'] for model in models]\n",
    "    stds = [results[model]['std_accuracy'] for model in models]\n",
    "\n",
    "    bars = ax.bar(models, means, yerr=stds, capsize=5, alpha=0.7)\n",
    "    ax.set_title(title)\n",
    "    ax.set_ylabel('Acurácia')\n",
    "    ax.set_ylim(0, 1)\n",
    "    ax.tick_params(axis='x', rotation=45)\n",
    "\n",
    "    # Adicionar valores nas barras\n",
    "    for bar, mean in zip(bars, means):\n",
    "        ax.text(bar.get_x() + bar.get_width() / 2, bar.get_height() + 0.01,\n",
    "                f'{mean:.3f}', ha='center', va='bottom')\n",
    "\n",
    "\n",
    "plot_cv_results(results_original, 'Resultados Originais', axes[0])\n",
    "plot_cv_results(results_rus, 'Resultados com Subamostragem', axes[1])\n",
    "plot_cv_results(results_ros, 'Resultados com Sobreamostragem', axes[2])\n",
    "\n",
    "plt.tight_layout()\n",
    "plt.show()"
   ]
  },
  {
   "cell_type": "code",
   "execution_count": null,
   "id": "95efe310",
   "metadata": {},
   "outputs": [],
   "source": [
    "# Escolhendo o melhore modelo com base na analise acima\n",
    "traning_model_name = 'rf'\n",
    "X_best_train, y_best_train = x_train_ros, y_train_ros"
   ]
  },
  {
   "cell_type": "markdown",
   "id": "4844ce20",
   "metadata": {},
   "source": [
    "### Otimização"
   ]
  },
  {
   "cell_type": "code",
   "execution_count": 50,
   "id": "27318e76",
   "metadata": {},
   "outputs": [],
   "source": [
    "models_params = {\n",
    "    'rf': {\n",
    "        'model': RandomForestClassifier(),\n",
    "        'params': {\n",
    "            'n_estimators': [50, 100],\n",
    "            'max_depth': [10, 20, None],\n",
    "            'min_samples_split': [2, 5],\n",
    "            'min_samples_leaf': [1, 2]\n",
    "        },\n",
    "        'data': X_best_train\n",
    "    },\n",
    "    'knn': {\n",
    "        'model': KNeighborsClassifier(),\n",
    "        'params': {\n",
    "            'n_neighbors': [6, 8],\n",
    "            'weights': ['uniform', 'distance'],\n",
    "            'metric': ['euclidean', 'cosine']\n",
    "        },\n",
    "        'data': X_best_train\n",
    "    },\n",
    "    'dt': {\n",
    "        'model': DecisionTreeClassifier(),\n",
    "        'params': {\n",
    "            'criterion': ['gini', 'entropy'],\n",
    "            'max_depth': [10, 20, None],\n",
    "            'min_samples_split': [2, 5],\n",
    "            'min_samples_leaf': [1, 2],\n",
    "        },\n",
    "        'data': X_best_train\n",
    "    }\n",
    "}"
   ]
  },
  {
   "cell_type": "code",
   "execution_count": null,
   "id": "28c797d2",
   "metadata": {},
   "outputs": [
    {
     "name": "stdout",
     "output_type": "stream",
     "text": [
      "Verificando os melhores parâmetros para o modelo rf\n",
      "Melhor parametro para rf: {'max_depth': None, 'min_samples_leaf': 1, 'min_samples_split': 5, 'n_estimators': 100}\n",
      "Melhor score para rf: 0.9508\n",
      "\n",
      "Training rf model...\n"
     ]
    }
   ],
   "source": [
    "# Testando todas as combinações de hiperparametros automaticamente para encontrar a melhor configuracao para o modelo escolhido\n",
    "\n",
    "training_model = models_params[traning_model_name]\n",
    "\n",
    "print(f\"Verificando os melhores parâmetros para o modelo {traning_model_name}\")\n",
    "grid_search = GridSearchCV(estimator=training_model['model'],\n",
    "                           param_grid=training_model['params'],\n",
    "                           scoring=make_scorer(accuracy_score),\n",
    "                           cv=5,\n",
    "                           n_jobs=4)\n",
    "grid_search.fit(training_model['data'], y_best_train)\n",
    "best_model = {\n",
    "    'model': grid_search.best_estimator_,\n",
    "    'best_params': grid_search.best_params_,\n",
    "    'best_score': grid_search.best_score_\n",
    "}\n",
    "\n",
    "print(f\"Melhor parametro para {traning_model_name}: {grid_search.best_params_}\")\n",
    "print(f\"Melhor score para {traning_model_name}: {grid_search.best_score_:.4f}\\n\")\n",
    "print(f\"Training {traning_model_name} model...\")"
   ]
  },
  {
   "cell_type": "code",
   "execution_count": 52,
   "id": "d60c2072",
   "metadata": {},
   "outputs": [
    {
     "data": {
      "text/plain": [
       "{'model': RandomForestClassifier(min_samples_split=5),\n",
       " 'best_params': {'max_depth': None,\n",
       "  'min_samples_leaf': 1,\n",
       "  'min_samples_split': 5,\n",
       "  'n_estimators': 100},\n",
       " 'best_score': np.float64(0.9508165610166008)}"
      ]
     },
     "execution_count": 52,
     "metadata": {},
     "output_type": "execute_result"
    }
   ],
   "source": [
    "best_model"
   ]
  },
  {
   "cell_type": "markdown",
   "id": "0b414daf",
   "metadata": {},
   "source": [
    "### Resultados Finais\n",
    "\n",
    "- Accuracy: % de acertos totais\n",
    "- Balanced Accuracy: Leva em conta o desbalanceamento\n",
    "- AUC-ROC: Mede capacidade de distinguir entre classes"
   ]
  },
  {
   "cell_type": "code",
   "execution_count": 53,
   "id": "bb9bdae2",
   "metadata": {},
   "outputs": [
    {
     "name": "stdout",
     "output_type": "stream",
     "text": [
      "Acurácia no teste: 0.9799\n",
      "Acurácia balanceada: 0.9799\n",
      "AUC-ROC: 0.9998\n",
      "Score CV: 0.9508\n",
      "Parâmetros: {'max_depth': None, 'min_samples_leaf': 1, 'min_samples_split': 5, 'n_estimators': 100}\n"
     ]
    }
   ],
   "source": [
    "final_results = {}\n",
    "\n",
    "model = best_model['model']\n",
    "y_pred = model.predict(X_best_train)\n",
    "accuracy = accuracy_score(y_best_train, y_pred)\n",
    "balanced_acc = balanced_accuracy_score(y_best_train, y_pred)\n",
    "\n",
    "y_pred_proba = model.predict_proba(X_best_train)[:, 1]\n",
    "auc_score = roc_auc_score(y_best_train, y_pred_proba)\n",
    "\n",
    "final_results = {\n",
    "    'accuracy': accuracy,\n",
    "    'balanced_accuracy': balanced_acc,\n",
    "    'auc': auc_score,\n",
    "    'cv_score': best_model['best_score'],\n",
    "    'best_params': best_model['best_params'],\n",
    "    'predictions': y_pred,\n",
    "    'probabilities': y_pred_proba if 'y_pred_proba' in locals() else None,\n",
    "}\n",
    "\n",
    "print(f\"Acurácia no teste: {accuracy:.4f}\")\n",
    "print(f\"Acurácia balanceada: {balanced_acc:.4f}\")\n",
    "if auc_score:\n",
    "    print(f\"AUC-ROC: {auc_score:.4f}\")\n",
    "print(f\"Score CV: {best_model['best_score']:.4f}\")\n",
    "print(f\"Parâmetros: {best_model['best_params']}\")\n"
   ]
  },
  {
   "cell_type": "code",
   "execution_count": 54,
   "id": "e0fff481",
   "metadata": {},
   "outputs": [],
   "source": [
    "best_model_name = model\n",
    "best_model_info = final_results\n",
    "\n",
    "best_model = model\n",
    "best_predictions = best_model_info['predictions']\n",
    "best_probabilities = best_model_info['probabilities']"
   ]
  },
  {
   "cell_type": "code",
   "execution_count": 55,
   "id": "86c7668f",
   "metadata": {},
   "outputs": [
    {
     "name": "stdout",
     "output_type": "stream",
     "text": [
      "relatório de classificação:\n",
      "              precision    recall  f1-score   support\n",
      "\n",
      "           0       0.96      1.00      0.98    144011\n",
      "           1       1.00      0.96      0.98    144011\n",
      "\n",
      "    accuracy                           0.98    288022\n",
      "   macro avg       0.98      0.98      0.98    288022\n",
      "weighted avg       0.98      0.98      0.98    288022\n",
      "\n"
     ]
    }
   ],
   "source": [
    "print(\"relatório de classificação:\")\n",
    "print(classification_report(y_best_train, best_predictions))"
   ]
  },
  {
   "cell_type": "code",
   "execution_count": null,
   "id": "78268111",
   "metadata": {},
   "outputs": [
    {
     "name": "stdout",
     "output_type": "stream",
     "text": [
      "matriz de confusão:\n"
     ]
    },
    {
     "data": {
      "text/plain": [
       "Text(70.72222222222221, 0.5, 'Dados Reais')"
      ]
     },
     "execution_count": 56,
     "metadata": {},
     "output_type": "execute_result"
    },
    {
     "data": {
      "image/png": "[encoded data removed]",
      "text/plain": [
       "<Figure size 800x400 with 2 Axes>"
      ]
     },
     "metadata": {},
     "output_type": "display_data"
    }
   ],
   "source": [
    "# Mostra detalhadamente onde o modelo erra e acerta (verdadeiros/falsos positivos e negativos).\n",
    "\n",
    "cm = confusion_matrix(y_best_train, best_predictions)\n",
    "print(\"matriz de confusão:\")\n",
    "\n",
    "plt.figure(figsize=(8, 4))\n",
    "sns.heatmap(cm, annot=True, fmt='d', cmap='Blues')\n",
    "plt.xlabel(\"Predição\")\n",
    "plt.ylabel(\"Dados Reais\")"
   ]
  },
  {
   "cell_type": "code",
   "execution_count": 57,
   "id": "817036cb",
   "metadata": {},
   "outputs": [
    {
     "data": {
      "image/png": "[encoded data removed]",
      "text/plain": [
       "<Figure size 640x480 with 1 Axes>"
      ]
     },
     "metadata": {},
     "output_type": "display_data"
    }
   ],
   "source": [
    "fpr, tpr, _ = roc_curve(y_best_train, best_probabilities)\n",
    "\n",
    "plt.plot(fpr, tpr, linewidth=2, label=f'ROC Curve (AUC = {best_model_info[\"auc\"]:.3f})')\n",
    "plt.plot([0, 1], [0, 1], 'k--', alpha=0.5)\n",
    "plt.xlabel('Taxa de Falsos Positivos')\n",
    "plt.ylabel('Taxa de Verdadeiros Positivos')\n",
    "plt.title(f'Curva ROC - {best_model_name}')\n",
    "plt.legend()\n",
    "plt.grid(True, alpha=0.3)"
   ]
  },
  {
   "cell_type": "markdown",
   "id": "24fede22",
   "metadata": {},
   "source": [
    "### Considerações"
   ]
  }
 ],
 "metadata": {
  "kernelspec": {
   "display_name": "3.10.4",
   "language": "python",
   "name": "python3"
  },
  "language_info": {
   "codemirror_mode": {
    "name": "ipython",
    "version": 3
   },
   "file_extension": ".py",
   "mimetype": "text/x-python",
   "name": "python",
   "nbconvert_exporter": "python",
   "pygments_lexer": "ipython3",
   "version": "3.10.4"
  }
 },
 "nbformat": 4,
 "nbformat_minor": 5
}
