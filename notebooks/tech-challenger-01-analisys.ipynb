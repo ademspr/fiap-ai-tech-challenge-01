{
  "cells": [
    {
      "cell_type": "markdown",
      "id": "f65adb8d",
      "metadata": {
        "id": "f65adb8d"
      },
      "source": [
        "# FIAP IA para Dev\n",
        "## Tech Challenge Fase 01 - Análise e Processamento\n"
      ]
    },
    {
      "cell_type": "markdown",
      "source": [
        "Dataset disponível em https://www.kaggle.com/datasets/ankushpanday1/lung-cancer-risk-and-trends-across-25-countries/data"
      ],
      "metadata": {
        "id": "ZNbZUXs5Wbo0"
      },
      "id": "ZNbZUXs5Wbo0"
    },
    {
      "cell_type": "code",
      "execution_count": 7,
      "id": "7c29d229",
      "metadata": {
        "id": "7c29d229"
      },
      "outputs": [],
      "source": [
        "import pandas as pd\n",
        "import matplotlib.pyplot as plt\n",
        "import seaborn as sb\n",
        "import numpy as np\n",
        "\n",
        "from sklearn.preprocessing import LabelEncoder"
      ]
    },
    {
      "cell_type": "code",
      "execution_count": 9,
      "id": "042c9968",
      "metadata": {
        "id": "042c9968",
        "outputId": "8eaddb17-83bd-442c-e113-ddc5ae705ca6",
        "colab": {
          "base_uri": "https://localhost:8080/",
          "height": 244
        }
      },
      "outputs": [
        {
          "output_type": "execute_result",
          "data": {
            "text/plain": [
              "   ID       Country  Population_Size  Age  Gender Smoker  Years_of_Smoking  \\\n",
              "0   0         China             1400   80    Male    Yes                30   \n",
              "1   1          Iran               84   53    Male     No                 0   \n",
              "2   2        Mexico              128   47    Male    Yes                12   \n",
              "3   3     Indonesia              273   39  Female     No                 0   \n",
              "4   4  South Africa               59   44  Female     No                 0   \n",
              "\n",
              "   Cigarettes_per_Day Passive_Smoker Family_History Lung_Cancer_Diagnosis  \\\n",
              "0                  29             No             No                    No   \n",
              "1                   0            Yes             No                    No   \n",
              "2                   6            Yes             No                    No   \n",
              "3                   0             No            Yes                    No   \n",
              "4                   0            Yes             No                    No   \n",
              "\n",
              "  Cancer_Stage  Survival_Years Adenocarcinoma_Type Air_Pollution_Exposure  \\\n",
              "0          NaN               0                 Yes                    Low   \n",
              "1          NaN               0                 Yes                    Low   \n",
              "2          NaN               0                 Yes                 Medium   \n",
              "3          NaN               0                 Yes                    Low   \n",
              "4          NaN               0                 Yes                 Medium   \n",
              "\n",
              "  Occupational_Exposure Indoor_Pollution Healthcare_Access Early_Detection  \\\n",
              "0                   Yes               No              Poor              No   \n",
              "1                   Yes               No              Poor              No   \n",
              "2                    No               No              Poor             Yes   \n",
              "3                    No               No              Poor              No   \n",
              "4                   Yes               No              Poor              No   \n",
              "\n",
              "  Treatment_Type Developed_or_Developing  Annual_Lung_Cancer_Deaths  \\\n",
              "0            NaN              Developing                     690000   \n",
              "1            NaN              Developing                      27000   \n",
              "2            NaN              Developing                      28000   \n",
              "3            NaN              Developing                      40000   \n",
              "4            NaN              Developing                      15000   \n",
              "\n",
              "   Lung_Cancer_Prevalence_Rate  Mortality_Rate  \n",
              "0                         2.44             0.0  \n",
              "1                         2.10             0.0  \n",
              "2                         1.11             0.0  \n",
              "3                         0.75             0.0  \n",
              "4                         2.44             0.0  "
            ],
            "text/html": [
              "\n",
              "  <div id=\"df-9d1dea4c-7c1c-40ef-bbfb-19fd40d07911\" class=\"colab-df-container\">\n",
              "    <div>\n",
              "<style scoped>\n",
              "    .dataframe tbody tr th:only-of-type {\n",
              "        vertical-align: middle;\n",
              "    }\n",
              "\n",
              "    .dataframe tbody tr th {\n",
              "        vertical-align: top;\n",
              "    }\n",
              "\n",
              "    .dataframe thead th {\n",
              "        text-align: right;\n",
              "    }\n",
              "</style>\n",
              "<table border=\"1\" class=\"dataframe\">\n",
              "  <thead>\n",
              "    <tr style=\"text-align: right;\">\n",
              "      <th></th>\n",
              "      <th>ID</th>\n",
              "      <th>Country</th>\n",
              "      <th>Population_Size</th>\n",
              "      <th>Age</th>\n",
              "      <th>Gender</th>\n",
              "      <th>Smoker</th>\n",
              "      <th>Years_of_Smoking</th>\n",
              "      <th>Cigarettes_per_Day</th>\n",
              "      <th>Passive_Smoker</th>\n",
              "      <th>Family_History</th>\n",
              "      <th>Lung_Cancer_Diagnosis</th>\n",
              "      <th>Cancer_Stage</th>\n",
              "      <th>Survival_Years</th>\n",
              "      <th>Adenocarcinoma_Type</th>\n",
              "      <th>Air_Pollution_Exposure</th>\n",
              "      <th>Occupational_Exposure</th>\n",
              "      <th>Indoor_Pollution</th>\n",
              "      <th>Healthcare_Access</th>\n",
              "      <th>Early_Detection</th>\n",
              "      <th>Treatment_Type</th>\n",
              "      <th>Developed_or_Developing</th>\n",
              "      <th>Annual_Lung_Cancer_Deaths</th>\n",
              "      <th>Lung_Cancer_Prevalence_Rate</th>\n",
              "      <th>Mortality_Rate</th>\n",
              "    </tr>\n",
              "  </thead>\n",
              "  <tbody>\n",
              "    <tr>\n",
              "      <th>0</th>\n",
              "      <td>0</td>\n",
              "      <td>China</td>\n",
              "      <td>1400</td>\n",
              "      <td>80</td>\n",
              "      <td>Male</td>\n",
              "      <td>Yes</td>\n",
              "      <td>30</td>\n",
              "      <td>29</td>\n",
              "      <td>No</td>\n",
              "      <td>No</td>\n",
              "      <td>No</td>\n",
              "      <td>NaN</td>\n",
              "      <td>0</td>\n",
              "      <td>Yes</td>\n",
              "      <td>Low</td>\n",
              "      <td>Yes</td>\n",
              "      <td>No</td>\n",
              "      <td>Poor</td>\n",
              "      <td>No</td>\n",
              "      <td>NaN</td>\n",
              "      <td>Developing</td>\n",
              "      <td>690000</td>\n",
              "      <td>2.44</td>\n",
              "      <td>0.0</td>\n",
              "    </tr>\n",
              "    <tr>\n",
              "      <th>1</th>\n",
              "      <td>1</td>\n",
              "      <td>Iran</td>\n",
              "      <td>84</td>\n",
              "      <td>53</td>\n",
              "      <td>Male</td>\n",
              "      <td>No</td>\n",
              "      <td>0</td>\n",
              "      <td>0</td>\n",
              "      <td>Yes</td>\n",
              "      <td>No</td>\n",
              "      <td>No</td>\n",
              "      <td>NaN</td>\n",
              "      <td>0</td>\n",
              "      <td>Yes</td>\n",
              "      <td>Low</td>\n",
              "      <td>Yes</td>\n",
              "      <td>No</td>\n",
              "      <td>Poor</td>\n",
              "      <td>No</td>\n",
              "      <td>NaN</td>\n",
              "      <td>Developing</td>\n",
              "      <td>27000</td>\n",
              "      <td>2.10</td>\n",
              "      <td>0.0</td>\n",
              "    </tr>\n",
              "    <tr>\n",
              "      <th>2</th>\n",
              "      <td>2</td>\n",
              "      <td>Mexico</td>\n",
              "      <td>128</td>\n",
              "      <td>47</td>\n",
              "      <td>Male</td>\n",
              "      <td>Yes</td>\n",
              "      <td>12</td>\n",
              "      <td>6</td>\n",
              "      <td>Yes</td>\n",
              "      <td>No</td>\n",
              "      <td>No</td>\n",
              "      <td>NaN</td>\n",
              "      <td>0</td>\n",
              "      <td>Yes</td>\n",
              "      <td>Medium</td>\n",
              "      <td>No</td>\n",
              "      <td>No</td>\n",
              "      <td>Poor</td>\n",
              "      <td>Yes</td>\n",
              "      <td>NaN</td>\n",
              "      <td>Developing</td>\n",
              "      <td>28000</td>\n",
              "      <td>1.11</td>\n",
              "      <td>0.0</td>\n",
              "    </tr>\n",
              "    <tr>\n",
              "      <th>3</th>\n",
              "      <td>3</td>\n",
              "      <td>Indonesia</td>\n",
              "      <td>273</td>\n",
              "      <td>39</td>\n",
              "      <td>Female</td>\n",
              "      <td>No</td>\n",
              "      <td>0</td>\n",
              "      <td>0</td>\n",
              "      <td>No</td>\n",
              "      <td>Yes</td>\n",
              "      <td>No</td>\n",
              "      <td>NaN</td>\n",
              "      <td>0</td>\n",
              "      <td>Yes</td>\n",
              "      <td>Low</td>\n",
              "      <td>No</td>\n",
              "      <td>No</td>\n",
              "      <td>Poor</td>\n",
              "      <td>No</td>\n",
              "      <td>NaN</td>\n",
              "      <td>Developing</td>\n",
              "      <td>40000</td>\n",
              "      <td>0.75</td>\n",
              "      <td>0.0</td>\n",
              "    </tr>\n",
              "    <tr>\n",
              "      <th>4</th>\n",
              "      <td>4</td>\n",
              "      <td>South Africa</td>\n",
              "      <td>59</td>\n",
              "      <td>44</td>\n",
              "      <td>Female</td>\n",
              "      <td>No</td>\n",
              "      <td>0</td>\n",
              "      <td>0</td>\n",
              "      <td>Yes</td>\n",
              "      <td>No</td>\n",
              "      <td>No</td>\n",
              "      <td>NaN</td>\n",
              "      <td>0</td>\n",
              "      <td>Yes</td>\n",
              "      <td>Medium</td>\n",
              "      <td>Yes</td>\n",
              "      <td>No</td>\n",
              "      <td>Poor</td>\n",
              "      <td>No</td>\n",
              "      <td>NaN</td>\n",
              "      <td>Developing</td>\n",
              "      <td>15000</td>\n",
              "      <td>2.44</td>\n",
              "      <td>0.0</td>\n",
              "    </tr>\n",
              "  </tbody>\n",
              "</table>\n",
              "</div>\n",
              "    <div class=\"colab-df-buttons\">\n",
              "\n",
              "  <div class=\"colab-df-container\">\n",
              "    <button class=\"colab-df-convert\" onclick=\"convertToInteractive('df-9d1dea4c-7c1c-40ef-bbfb-19fd40d07911')\"\n",
              "            title=\"Convert this dataframe to an interactive table.\"\n",
              "            style=\"display:none;\">\n",
              "\n",
              "  <svg xmlns=\"http://www.w3.org/2000/svg\" height=\"24px\" viewBox=\"0 -960 960 960\">\n",
              "    <path d=\"M120-120v-720h720v720H120Zm60-500h600v-160H180v160Zm220 220h160v-160H400v160Zm0 220h160v-160H400v160ZM180-400h160v-160H180v160Zm440 0h160v-160H620v160ZM180-180h160v-160H180v160Zm440 0h160v-160H620v160Z\"/>\n",
              "  </svg>\n",
              "    </button>\n",
              "\n",
              "  <style>\n",
              "    .colab-df-container {\n",
              "      display:flex;\n",
              "      gap: 12px;\n",
              "    }\n",
              "\n",
              "    .colab-df-convert {\n",
              "      background-color: #E8F0FE;\n",
              "      border: none;\n",
              "      border-radius: 50%;\n",
              "      cursor: pointer;\n",
              "      display: none;\n",
              "      fill: #1967D2;\n",
              "      height: 32px;\n",
              "      padding: 0 0 0 0;\n",
              "      width: 32px;\n",
              "    }\n",
              "\n",
              "    .colab-df-convert:hover {\n",
              "      background-color: #E2EBFA;\n",
              "      box-shadow: 0px 1px 2px rgba(60, 64, 67, 0.3), 0px 1px 3px 1px rgba(60, 64, 67, 0.15);\n",
              "      fill: #174EA6;\n",
              "    }\n",
              "\n",
              "    .colab-df-buttons div {\n",
              "      margin-bottom: 4px;\n",
              "    }\n",
              "\n",
              "    [theme=dark] .colab-df-convert {\n",
              "      background-color: #3B4455;\n",
              "      fill: #D2E3FC;\n",
              "    }\n",
              "\n",
              "    [theme=dark] .colab-df-convert:hover {\n",
              "      background-color: #434B5C;\n",
              "      box-shadow: 0px 1px 3px 1px rgba(0, 0, 0, 0.15);\n",
              "      filter: drop-shadow(0px 1px 2px rgba(0, 0, 0, 0.3));\n",
              "      fill: #FFFFFF;\n",
              "    }\n",
              "  </style>\n",
              "\n",
              "    <script>\n",
              "      const buttonEl =\n",
              "        document.querySelector('#df-9d1dea4c-7c1c-40ef-bbfb-19fd40d07911 button.colab-df-convert');\n",
              "      buttonEl.style.display =\n",
              "        google.colab.kernel.accessAllowed ? 'block' : 'none';\n",
              "\n",
              "      async function convertToInteractive(key) {\n",
              "        const element = document.querySelector('#df-9d1dea4c-7c1c-40ef-bbfb-19fd40d07911');\n",
              "        const dataTable =\n",
              "          await google.colab.kernel.invokeFunction('convertToInteractive',\n",
              "                                                    [key], {});\n",
              "        if (!dataTable) return;\n",
              "\n",
              "        const docLinkHtml = 'Like what you see? Visit the ' +\n",
              "          '<a target=\"_blank\" href=https://colab.research.google.com/notebooks/data_table.ipynb>data table notebook</a>'\n",
              "          + ' to learn more about interactive tables.';\n",
              "        element.innerHTML = '';\n",
              "        dataTable['output_type'] = 'display_data';\n",
              "        await google.colab.output.renderOutput(dataTable, element);\n",
              "        const docLink = document.createElement('div');\n",
              "        docLink.innerHTML = docLinkHtml;\n",
              "        element.appendChild(docLink);\n",
              "      }\n",
              "    </script>\n",
              "  </div>\n",
              "\n",
              "\n",
              "    <div id=\"df-722f16ce-7d49-4c58-a959-26943b9f8b01\">\n",
              "      <button class=\"colab-df-quickchart\" onclick=\"quickchart('df-722f16ce-7d49-4c58-a959-26943b9f8b01')\"\n",
              "                title=\"Suggest charts\"\n",
              "                style=\"display:none;\">\n",
              "\n",
              "<svg xmlns=\"http://www.w3.org/2000/svg\" height=\"24px\"viewBox=\"0 0 24 24\"\n",
              "     width=\"24px\">\n",
              "    <g>\n",
              "        <path d=\"M19 3H5c-1.1 0-2 .9-2 2v14c0 1.1.9 2 2 2h14c1.1 0 2-.9 2-2V5c0-1.1-.9-2-2-2zM9 17H7v-7h2v7zm4 0h-2V7h2v10zm4 0h-2v-4h2v4z\"/>\n",
              "    </g>\n",
              "</svg>\n",
              "      </button>\n",
              "\n",
              "<style>\n",
              "  .colab-df-quickchart {\n",
              "      --bg-color: #E8F0FE;\n",
              "      --fill-color: #1967D2;\n",
              "      --hover-bg-color: #E2EBFA;\n",
              "      --hover-fill-color: #174EA6;\n",
              "      --disabled-fill-color: #AAA;\n",
              "      --disabled-bg-color: #DDD;\n",
              "  }\n",
              "\n",
              "  [theme=dark] .colab-df-quickchart {\n",
              "      --bg-color: #3B4455;\n",
              "      --fill-color: #D2E3FC;\n",
              "      --hover-bg-color: #434B5C;\n",
              "      --hover-fill-color: #FFFFFF;\n",
              "      --disabled-bg-color: #3B4455;\n",
              "      --disabled-fill-color: #666;\n",
              "  }\n",
              "\n",
              "  .colab-df-quickchart {\n",
              "    background-color: var(--bg-color);\n",
              "    border: none;\n",
              "    border-radius: 50%;\n",
              "    cursor: pointer;\n",
              "    display: none;\n",
              "    fill: var(--fill-color);\n",
              "    height: 32px;\n",
              "    padding: 0;\n",
              "    width: 32px;\n",
              "  }\n",
              "\n",
              "  .colab-df-quickchart:hover {\n",
              "    background-color: var(--hover-bg-color);\n",
              "    box-shadow: 0 1px 2px rgba(60, 64, 67, 0.3), 0 1px 3px 1px rgba(60, 64, 67, 0.15);\n",
              "    fill: var(--button-hover-fill-color);\n",
              "  }\n",
              "\n",
              "  .colab-df-quickchart-complete:disabled,\n",
              "  .colab-df-quickchart-complete:disabled:hover {\n",
              "    background-color: var(--disabled-bg-color);\n",
              "    fill: var(--disabled-fill-color);\n",
              "    box-shadow: none;\n",
              "  }\n",
              "\n",
              "  .colab-df-spinner {\n",
              "    border: 2px solid var(--fill-color);\n",
              "    border-color: transparent;\n",
              "    border-bottom-color: var(--fill-color);\n",
              "    animation:\n",
              "      spin 1s steps(1) infinite;\n",
              "  }\n",
              "\n",
              "  @keyframes spin {\n",
              "    0% {\n",
              "      border-color: transparent;\n",
              "      border-bottom-color: var(--fill-color);\n",
              "      border-left-color: var(--fill-color);\n",
              "    }\n",
              "    20% {\n",
              "      border-color: transparent;\n",
              "      border-left-color: var(--fill-color);\n",
              "      border-top-color: var(--fill-color);\n",
              "    }\n",
              "    30% {\n",
              "      border-color: transparent;\n",
              "      border-left-color: var(--fill-color);\n",
              "      border-top-color: var(--fill-color);\n",
              "      border-right-color: var(--fill-color);\n",
              "    }\n",
              "    40% {\n",
              "      border-color: transparent;\n",
              "      border-right-color: var(--fill-color);\n",
              "      border-top-color: var(--fill-color);\n",
              "    }\n",
              "    60% {\n",
              "      border-color: transparent;\n",
              "      border-right-color: var(--fill-color);\n",
              "    }\n",
              "    80% {\n",
              "      border-color: transparent;\n",
              "      border-right-color: var(--fill-color);\n",
              "      border-bottom-color: var(--fill-color);\n",
              "    }\n",
              "    90% {\n",
              "      border-color: transparent;\n",
              "      border-bottom-color: var(--fill-color);\n",
              "    }\n",
              "  }\n",
              "</style>\n",
              "\n",
              "      <script>\n",
              "        async function quickchart(key) {\n",
              "          const quickchartButtonEl =\n",
              "            document.querySelector('#' + key + ' button');\n",
              "          quickchartButtonEl.disabled = true;  // To prevent multiple clicks.\n",
              "          quickchartButtonEl.classList.add('colab-df-spinner');\n",
              "          try {\n",
              "            const charts = await google.colab.kernel.invokeFunction(\n",
              "                'suggestCharts', [key], {});\n",
              "          } catch (error) {\n",
              "            console.error('Error during call to suggestCharts:', error);\n",
              "          }\n",
              "          quickchartButtonEl.classList.remove('colab-df-spinner');\n",
              "          quickchartButtonEl.classList.add('colab-df-quickchart-complete');\n",
              "        }\n",
              "        (() => {\n",
              "          let quickchartButtonEl =\n",
              "            document.querySelector('#df-722f16ce-7d49-4c58-a959-26943b9f8b01 button');\n",
              "          quickchartButtonEl.style.display =\n",
              "            google.colab.kernel.accessAllowed ? 'block' : 'none';\n",
              "        })();\n",
              "      </script>\n",
              "    </div>\n",
              "\n",
              "    </div>\n",
              "  </div>\n"
            ],
            "application/vnd.google.colaboratory.intrinsic+json": {
              "type": "dataframe",
              "variable_name": "df"
            }
          },
          "metadata": {},
          "execution_count": 9
        }
      ],
      "source": [
        "pd.set_option(\"display.max_columns\", None)\n",
        "df = pd.read_csv(\"/content/sample_data/lung_cancer_prediction_dataset.csv\")\n",
        "\n",
        "df.head()"
      ]
    },
    {
      "cell_type": "code",
      "execution_count": 10,
      "id": "24ec7432",
      "metadata": {
        "id": "24ec7432",
        "outputId": "bbe123fe-e9ac-4372-af84-38a875fb0a01",
        "colab": {
          "base_uri": "https://localhost:8080/"
        }
      },
      "outputs": [
        {
          "output_type": "stream",
          "name": "stdout",
          "text": [
            "Dataset Information:\n",
            "<class 'pandas.core.frame.DataFrame'>\n",
            "RangeIndex: 220632 entries, 0 to 220631\n",
            "Data columns (total 24 columns):\n",
            " #   Column                       Non-Null Count   Dtype  \n",
            "---  ------                       --------------   -----  \n",
            " 0   ID                           220632 non-null  int64  \n",
            " 1   Country                      220632 non-null  object \n",
            " 2   Population_Size              220632 non-null  int64  \n",
            " 3   Age                          220632 non-null  int64  \n",
            " 4   Gender                       220632 non-null  object \n",
            " 5   Smoker                       220632 non-null  object \n",
            " 6   Years_of_Smoking             220632 non-null  int64  \n",
            " 7   Cigarettes_per_Day           220632 non-null  int64  \n",
            " 8   Passive_Smoker               220632 non-null  object \n",
            " 9   Family_History               220632 non-null  object \n",
            " 10  Lung_Cancer_Diagnosis        220632 non-null  object \n",
            " 11  Cancer_Stage                 8961 non-null    object \n",
            " 12  Survival_Years               220632 non-null  int64  \n",
            " 13  Adenocarcinoma_Type          220632 non-null  object \n",
            " 14  Air_Pollution_Exposure       220632 non-null  object \n",
            " 15  Occupational_Exposure        220632 non-null  object \n",
            " 16  Indoor_Pollution             220632 non-null  object \n",
            " 17  Healthcare_Access            220632 non-null  object \n",
            " 18  Early_Detection              220632 non-null  object \n",
            " 19  Treatment_Type               6664 non-null    object \n",
            " 20  Developed_or_Developing      220632 non-null  object \n",
            " 21  Annual_Lung_Cancer_Deaths    220632 non-null  int64  \n",
            " 22  Lung_Cancer_Prevalence_Rate  220632 non-null  float64\n",
            " 23  Mortality_Rate               220632 non-null  float64\n",
            "dtypes: float64(2), int64(7), object(15)\n",
            "memory usage: 40.4+ MB\n"
          ]
        }
      ],
      "source": [
        "print(\"Dataset Information:\")\n",
        "df.info()"
      ]
    },
    {
      "cell_type": "code",
      "execution_count": 11,
      "id": "9d22eec7",
      "metadata": {
        "id": "9d22eec7",
        "outputId": "46c8c9dc-bfdc-42ba-f5fa-24fb4f3b1726",
        "colab": {
          "base_uri": "https://localhost:8080/",
          "height": 318
        }
      },
      "outputs": [
        {
          "output_type": "stream",
          "name": "stdout",
          "text": [
            "Dataset Description:\n"
          ]
        },
        {
          "output_type": "display_data",
          "data": {
            "text/plain": [
              "                  ID  Population_Size            Age  Years_of_Smoking  \\\n",
              "count  220632.000000    220632.000000  220632.000000     220632.000000   \n",
              "mean   110315.500000       229.779882      52.518352          8.175274   \n",
              "std     63691.116633       349.247477      19.078215         12.377248   \n",
              "min         0.000000        54.000000      20.000000          0.000000   \n",
              "25%     55157.750000        83.000000      36.000000          0.000000   \n",
              "50%    110315.500000       113.000000      53.000000          0.000000   \n",
              "75%    165473.250000       206.000000      69.000000         15.000000   \n",
              "max    220631.000000      1400.000000      85.000000         40.000000   \n",
              "\n",
              "       Cigarettes_per_Day  Survival_Years  Annual_Lung_Cancer_Deaths  \\\n",
              "count       220632.000000   220632.000000              220632.000000   \n",
              "mean             7.007515        0.223526               63931.086928   \n",
              "std              9.802187        1.231025              130690.126777   \n",
              "min              0.000000        0.000000               10005.000000   \n",
              "25%              0.000000        0.000000               23000.000000   \n",
              "50%              0.000000        0.000000               30000.000000   \n",
              "75%             14.000000        0.000000               45000.000000   \n",
              "max             30.000000       10.000000              690000.000000   \n",
              "\n",
              "       Lung_Cancer_Prevalence_Rate  Mortality_Rate  \n",
              "count                220632.000000   220632.000000  \n",
              "mean                      1.502085        3.049802  \n",
              "std                       0.578043       14.924169  \n",
              "min                       0.500000        0.000000  \n",
              "25%                       1.000000        0.000000  \n",
              "50%                       1.500000        0.000000  \n",
              "75%                       2.000000        0.000000  \n",
              "max                       2.500000       90.000000  "
            ],
            "text/html": [
              "\n",
              "  <div id=\"df-7b2d3534-0d8a-492e-9d86-699eb00635e1\" class=\"colab-df-container\">\n",
              "    <div>\n",
              "<style scoped>\n",
              "    .dataframe tbody tr th:only-of-type {\n",
              "        vertical-align: middle;\n",
              "    }\n",
              "\n",
              "    .dataframe tbody tr th {\n",
              "        vertical-align: top;\n",
              "    }\n",
              "\n",
              "    .dataframe thead th {\n",
              "        text-align: right;\n",
              "    }\n",
              "</style>\n",
              "<table border=\"1\" class=\"dataframe\">\n",
              "  <thead>\n",
              "    <tr style=\"text-align: right;\">\n",
              "      <th></th>\n",
              "      <th>ID</th>\n",
              "      <th>Population_Size</th>\n",
              "      <th>Age</th>\n",
              "      <th>Years_of_Smoking</th>\n",
              "      <th>Cigarettes_per_Day</th>\n",
              "      <th>Survival_Years</th>\n",
              "      <th>Annual_Lung_Cancer_Deaths</th>\n",
              "      <th>Lung_Cancer_Prevalence_Rate</th>\n",
              "      <th>Mortality_Rate</th>\n",
              "    </tr>\n",
              "  </thead>\n",
              "  <tbody>\n",
              "    <tr>\n",
              "      <th>count</th>\n",
              "      <td>220632.000000</td>\n",
              "      <td>220632.000000</td>\n",
              "      <td>220632.000000</td>\n",
              "      <td>220632.000000</td>\n",
              "      <td>220632.000000</td>\n",
              "      <td>220632.000000</td>\n",
              "      <td>220632.000000</td>\n",
              "      <td>220632.000000</td>\n",
              "      <td>220632.000000</td>\n",
              "    </tr>\n",
              "    <tr>\n",
              "      <th>mean</th>\n",
              "      <td>110315.500000</td>\n",
              "      <td>229.779882</td>\n",
              "      <td>52.518352</td>\n",
              "      <td>8.175274</td>\n",
              "      <td>7.007515</td>\n",
              "      <td>0.223526</td>\n",
              "      <td>63931.086928</td>\n",
              "      <td>1.502085</td>\n",
              "      <td>3.049802</td>\n",
              "    </tr>\n",
              "    <tr>\n",
              "      <th>std</th>\n",
              "      <td>63691.116633</td>\n",
              "      <td>349.247477</td>\n",
              "      <td>19.078215</td>\n",
              "      <td>12.377248</td>\n",
              "      <td>9.802187</td>\n",
              "      <td>1.231025</td>\n",
              "      <td>130690.126777</td>\n",
              "      <td>0.578043</td>\n",
              "      <td>14.924169</td>\n",
              "    </tr>\n",
              "    <tr>\n",
              "      <th>min</th>\n",
              "      <td>0.000000</td>\n",
              "      <td>54.000000</td>\n",
              "      <td>20.000000</td>\n",
              "      <td>0.000000</td>\n",
              "      <td>0.000000</td>\n",
              "      <td>0.000000</td>\n",
              "      <td>10005.000000</td>\n",
              "      <td>0.500000</td>\n",
              "      <td>0.000000</td>\n",
              "    </tr>\n",
              "    <tr>\n",
              "      <th>25%</th>\n",
              "      <td>55157.750000</td>\n",
              "      <td>83.000000</td>\n",
              "      <td>36.000000</td>\n",
              "      <td>0.000000</td>\n",
              "      <td>0.000000</td>\n",
              "      <td>0.000000</td>\n",
              "      <td>23000.000000</td>\n",
              "      <td>1.000000</td>\n",
              "      <td>0.000000</td>\n",
              "    </tr>\n",
              "    <tr>\n",
              "      <th>50%</th>\n",
              "      <td>110315.500000</td>\n",
              "      <td>113.000000</td>\n",
              "      <td>53.000000</td>\n",
              "      <td>0.000000</td>\n",
              "      <td>0.000000</td>\n",
              "      <td>0.000000</td>\n",
              "      <td>30000.000000</td>\n",
              "      <td>1.500000</td>\n",
              "      <td>0.000000</td>\n",
              "    </tr>\n",
              "    <tr>\n",
              "      <th>75%</th>\n",
              "      <td>165473.250000</td>\n",
              "      <td>206.000000</td>\n",
              "      <td>69.000000</td>\n",
              "      <td>15.000000</td>\n",
              "      <td>14.000000</td>\n",
              "      <td>0.000000</td>\n",
              "      <td>45000.000000</td>\n",
              "      <td>2.000000</td>\n",
              "      <td>0.000000</td>\n",
              "    </tr>\n",
              "    <tr>\n",
              "      <th>max</th>\n",
              "      <td>220631.000000</td>\n",
              "      <td>1400.000000</td>\n",
              "      <td>85.000000</td>\n",
              "      <td>40.000000</td>\n",
              "      <td>30.000000</td>\n",
              "      <td>10.000000</td>\n",
              "      <td>690000.000000</td>\n",
              "      <td>2.500000</td>\n",
              "      <td>90.000000</td>\n",
              "    </tr>\n",
              "  </tbody>\n",
              "</table>\n",
              "</div>\n",
              "    <div class=\"colab-df-buttons\">\n",
              "\n",
              "  <div class=\"colab-df-container\">\n",
              "    <button class=\"colab-df-convert\" onclick=\"convertToInteractive('df-7b2d3534-0d8a-492e-9d86-699eb00635e1')\"\n",
              "            title=\"Convert this dataframe to an interactive table.\"\n",
              "            style=\"display:none;\">\n",
              "\n",
              "  <svg xmlns=\"http://www.w3.org/2000/svg\" height=\"24px\" viewBox=\"0 -960 960 960\">\n",
              "    <path d=\"M120-120v-720h720v720H120Zm60-500h600v-160H180v160Zm220 220h160v-160H400v160Zm0 220h160v-160H400v160ZM180-400h160v-160H180v160Zm440 0h160v-160H620v160ZM180-180h160v-160H180v160Zm440 0h160v-160H620v160Z\"/>\n",
              "  </svg>\n",
              "    </button>\n",
              "\n",
              "  <style>\n",
              "    .colab-df-container {\n",
              "      display:flex;\n",
              "      gap: 12px;\n",
              "    }\n",
              "\n",
              "    .colab-df-convert {\n",
              "      background-color: #E8F0FE;\n",
              "      border: none;\n",
              "      border-radius: 50%;\n",
              "      cursor: pointer;\n",
              "      display: none;\n",
              "      fill: #1967D2;\n",
              "      height: 32px;\n",
              "      padding: 0 0 0 0;\n",
              "      width: 32px;\n",
              "    }\n",
              "\n",
              "    .colab-df-convert:hover {\n",
              "      background-color: #E2EBFA;\n",
              "      box-shadow: 0px 1px 2px rgba(60, 64, 67, 0.3), 0px 1px 3px 1px rgba(60, 64, 67, 0.15);\n",
              "      fill: #174EA6;\n",
              "    }\n",
              "\n",
              "    .colab-df-buttons div {\n",
              "      margin-bottom: 4px;\n",
              "    }\n",
              "\n",
              "    [theme=dark] .colab-df-convert {\n",
              "      background-color: #3B4455;\n",
              "      fill: #D2E3FC;\n",
              "    }\n",
              "\n",
              "    [theme=dark] .colab-df-convert:hover {\n",
              "      background-color: #434B5C;\n",
              "      box-shadow: 0px 1px 3px 1px rgba(0, 0, 0, 0.15);\n",
              "      filter: drop-shadow(0px 1px 2px rgba(0, 0, 0, 0.3));\n",
              "      fill: #FFFFFF;\n",
              "    }\n",
              "  </style>\n",
              "\n",
              "    <script>\n",
              "      const buttonEl =\n",
              "        document.querySelector('#df-7b2d3534-0d8a-492e-9d86-699eb00635e1 button.colab-df-convert');\n",
              "      buttonEl.style.display =\n",
              "        google.colab.kernel.accessAllowed ? 'block' : 'none';\n",
              "\n",
              "      async function convertToInteractive(key) {\n",
              "        const element = document.querySelector('#df-7b2d3534-0d8a-492e-9d86-699eb00635e1');\n",
              "        const dataTable =\n",
              "          await google.colab.kernel.invokeFunction('convertToInteractive',\n",
              "                                                    [key], {});\n",
              "        if (!dataTable) return;\n",
              "\n",
              "        const docLinkHtml = 'Like what you see? Visit the ' +\n",
              "          '<a target=\"_blank\" href=https://colab.research.google.com/notebooks/data_table.ipynb>data table notebook</a>'\n",
              "          + ' to learn more about interactive tables.';\n",
              "        element.innerHTML = '';\n",
              "        dataTable['output_type'] = 'display_data';\n",
              "        await google.colab.output.renderOutput(dataTable, element);\n",
              "        const docLink = document.createElement('div');\n",
              "        docLink.innerHTML = docLinkHtml;\n",
              "        element.appendChild(docLink);\n",
              "      }\n",
              "    </script>\n",
              "  </div>\n",
              "\n",
              "\n",
              "    <div id=\"df-bf6be0ff-7751-40a2-a9a7-825fadd5608a\">\n",
              "      <button class=\"colab-df-quickchart\" onclick=\"quickchart('df-bf6be0ff-7751-40a2-a9a7-825fadd5608a')\"\n",
              "                title=\"Suggest charts\"\n",
              "                style=\"display:none;\">\n",
              "\n",
              "<svg xmlns=\"http://www.w3.org/2000/svg\" height=\"24px\"viewBox=\"0 0 24 24\"\n",
              "     width=\"24px\">\n",
              "    <g>\n",
              "        <path d=\"M19 3H5c-1.1 0-2 .9-2 2v14c0 1.1.9 2 2 2h14c1.1 0 2-.9 2-2V5c0-1.1-.9-2-2-2zM9 17H7v-7h2v7zm4 0h-2V7h2v10zm4 0h-2v-4h2v4z\"/>\n",
              "    </g>\n",
              "</svg>\n",
              "      </button>\n",
              "\n",
              "<style>\n",
              "  .colab-df-quickchart {\n",
              "      --bg-color: #E8F0FE;\n",
              "      --fill-color: #1967D2;\n",
              "      --hover-bg-color: #E2EBFA;\n",
              "      --hover-fill-color: #174EA6;\n",
              "      --disabled-fill-color: #AAA;\n",
              "      --disabled-bg-color: #DDD;\n",
              "  }\n",
              "\n",
              "  [theme=dark] .colab-df-quickchart {\n",
              "      --bg-color: #3B4455;\n",
              "      --fill-color: #D2E3FC;\n",
              "      --hover-bg-color: #434B5C;\n",
              "      --hover-fill-color: #FFFFFF;\n",
              "      --disabled-bg-color: #3B4455;\n",
              "      --disabled-fill-color: #666;\n",
              "  }\n",
              "\n",
              "  .colab-df-quickchart {\n",
              "    background-color: var(--bg-color);\n",
              "    border: none;\n",
              "    border-radius: 50%;\n",
              "    cursor: pointer;\n",
              "    display: none;\n",
              "    fill: var(--fill-color);\n",
              "    height: 32px;\n",
              "    padding: 0;\n",
              "    width: 32px;\n",
              "  }\n",
              "\n",
              "  .colab-df-quickchart:hover {\n",
              "    background-color: var(--hover-bg-color);\n",
              "    box-shadow: 0 1px 2px rgba(60, 64, 67, 0.3), 0 1px 3px 1px rgba(60, 64, 67, 0.15);\n",
              "    fill: var(--button-hover-fill-color);\n",
              "  }\n",
              "\n",
              "  .colab-df-quickchart-complete:disabled,\n",
              "  .colab-df-quickchart-complete:disabled:hover {\n",
              "    background-color: var(--disabled-bg-color);\n",
              "    fill: var(--disabled-fill-color);\n",
              "    box-shadow: none;\n",
              "  }\n",
              "\n",
              "  .colab-df-spinner {\n",
              "    border: 2px solid var(--fill-color);\n",
              "    border-color: transparent;\n",
              "    border-bottom-color: var(--fill-color);\n",
              "    animation:\n",
              "      spin 1s steps(1) infinite;\n",
              "  }\n",
              "\n",
              "  @keyframes spin {\n",
              "    0% {\n",
              "      border-color: transparent;\n",
              "      border-bottom-color: var(--fill-color);\n",
              "      border-left-color: var(--fill-color);\n",
              "    }\n",
              "    20% {\n",
              "      border-color: transparent;\n",
              "      border-left-color: var(--fill-color);\n",
              "      border-top-color: var(--fill-color);\n",
              "    }\n",
              "    30% {\n",
              "      border-color: transparent;\n",
              "      border-left-color: var(--fill-color);\n",
              "      border-top-color: var(--fill-color);\n",
              "      border-right-color: var(--fill-color);\n",
              "    }\n",
              "    40% {\n",
              "      border-color: transparent;\n",
              "      border-right-color: var(--fill-color);\n",
              "      border-top-color: var(--fill-color);\n",
              "    }\n",
              "    60% {\n",
              "      border-color: transparent;\n",
              "      border-right-color: var(--fill-color);\n",
              "    }\n",
              "    80% {\n",
              "      border-color: transparent;\n",
              "      border-right-color: var(--fill-color);\n",
              "      border-bottom-color: var(--fill-color);\n",
              "    }\n",
              "    90% {\n",
              "      border-color: transparent;\n",
              "      border-bottom-color: var(--fill-color);\n",
              "    }\n",
              "  }\n",
              "</style>\n",
              "\n",
              "      <script>\n",
              "        async function quickchart(key) {\n",
              "          const quickchartButtonEl =\n",
              "            document.querySelector('#' + key + ' button');\n",
              "          quickchartButtonEl.disabled = true;  // To prevent multiple clicks.\n",
              "          quickchartButtonEl.classList.add('colab-df-spinner');\n",
              "          try {\n",
              "            const charts = await google.colab.kernel.invokeFunction(\n",
              "                'suggestCharts', [key], {});\n",
              "          } catch (error) {\n",
              "            console.error('Error during call to suggestCharts:', error);\n",
              "          }\n",
              "          quickchartButtonEl.classList.remove('colab-df-spinner');\n",
              "          quickchartButtonEl.classList.add('colab-df-quickchart-complete');\n",
              "        }\n",
              "        (() => {\n",
              "          let quickchartButtonEl =\n",
              "            document.querySelector('#df-bf6be0ff-7751-40a2-a9a7-825fadd5608a button');\n",
              "          quickchartButtonEl.style.display =\n",
              "            google.colab.kernel.accessAllowed ? 'block' : 'none';\n",
              "        })();\n",
              "      </script>\n",
              "    </div>\n",
              "\n",
              "    </div>\n",
              "  </div>\n"
            ],
            "application/vnd.google.colaboratory.intrinsic+json": {
              "type": "dataframe",
              "summary": "{\n  \"name\": \"display(df\",\n  \"rows\": 8,\n  \"fields\": [\n    {\n      \"column\": \"ID\",\n      \"properties\": {\n        \"dtype\": \"number\",\n        \"std\": 79516.62129215804,\n        \"min\": 0.0,\n        \"max\": 220632.0,\n        \"num_unique_values\": 7,\n        \"samples\": [\n          220632.0,\n          110315.5,\n          165473.25\n        ],\n        \"semantic_type\": \"\",\n        \"description\": \"\"\n      }\n    },\n    {\n      \"column\": \"Population_Size\",\n      \"properties\": {\n        \"dtype\": \"number\",\n        \"std\": 77883.4448479754,\n        \"min\": 54.0,\n        \"max\": 220632.0,\n        \"num_unique_values\": 8,\n        \"samples\": [\n          229.7798823380108,\n          113.0,\n          220632.0\n        ],\n        \"semantic_type\": \"\",\n        \"description\": \"\"\n      }\n    },\n    {\n      \"column\": \"Age\",\n      \"properties\": {\n        \"dtype\": \"number\",\n        \"std\": 77988.29530987059,\n        \"min\": 19.07821477727748,\n        \"max\": 220632.0,\n        \"num_unique_values\": 8,\n        \"samples\": [\n          52.51835182566445,\n          53.0,\n          220632.0\n        ],\n        \"semantic_type\": \"\",\n        \"description\": \"\"\n      }\n    },\n    {\n      \"column\": \"Years_of_Smoking\",\n      \"properties\": {\n        \"dtype\": \"number\",\n        \"std\": 78001.37682074374,\n        \"min\": 0.0,\n        \"max\": 220632.0,\n        \"num_unique_values\": 6,\n        \"samples\": [\n          220632.0,\n          8.175273759019543,\n          40.0\n        ],\n        \"semantic_type\": \"\",\n        \"description\": \"\"\n      }\n    },\n    {\n      \"column\": \"Cigarettes_per_Day\",\n      \"properties\": {\n        \"dtype\": \"number\",\n        \"std\": 78002.120972498,\n        \"min\": 0.0,\n        \"max\": 220632.0,\n        \"num_unique_values\": 6,\n        \"samples\": [\n          220632.0,\n          7.007514775735161,\n          30.0\n        ],\n        \"semantic_type\": \"\",\n        \"description\": \"\"\n      }\n    },\n    {\n      \"column\": \"Survival_Years\",\n      \"properties\": {\n        \"dtype\": \"number\",\n        \"std\": 78004.61320700392,\n        \"min\": 0.0,\n        \"max\": 220632.0,\n        \"num_unique_values\": 5,\n        \"samples\": [\n          0.22352605243119766,\n          10.0,\n          1.2310253183035753\n        ],\n        \"semantic_type\": \"\",\n        \"description\": \"\"\n      }\n    },\n    {\n      \"column\": \"Annual_Lung_Cancer_Deaths\",\n      \"properties\": {\n        \"dtype\": \"number\",\n        \"std\": 228504.5282206878,\n        \"min\": 10005.0,\n        \"max\": 690000.0,\n        \"num_unique_values\": 8,\n        \"samples\": [\n          63931.08692755357,\n          30000.0,\n          220632.0\n        ],\n        \"semantic_type\": \"\",\n        \"description\": \"\"\n      }\n    },\n    {\n      \"column\": \"Lung_Cancer_Prevalence_Rate\",\n      \"properties\": {\n        \"dtype\": \"number\",\n        \"std\": 78004.70780678127,\n        \"min\": 0.5,\n        \"max\": 220632.0,\n        \"num_unique_values\": 8,\n        \"samples\": [\n          1.5020852822799957,\n          1.5,\n          220632.0\n        ],\n        \"semantic_type\": \"\",\n        \"description\": \"\"\n      }\n    },\n    {\n      \"column\": \"Mortality_Rate\",\n      \"properties\": {\n        \"dtype\": \"number\",\n        \"std\": 77999.7442692484,\n        \"min\": 0.0,\n        \"max\": 220632.0,\n        \"num_unique_values\": 5,\n        \"samples\": [\n          3.049801660683854,\n          90.0,\n          14.924168711232674\n        ],\n        \"semantic_type\": \"\",\n        \"description\": \"\"\n      }\n    }\n  ]\n}"
            }
          },
          "metadata": {}
        }
      ],
      "source": [
        "print(\"Dataset Description:\")\n",
        "display(df.describe())"
      ]
    },
    {
      "cell_type": "code",
      "execution_count": 12,
      "id": "21da3a88",
      "metadata": {
        "id": "21da3a88",
        "outputId": "f80b1251-7eb3-4d73-8686-b3532d84d57d",
        "colab": {
          "base_uri": "https://localhost:8080/"
        }
      },
      "outputs": [
        {
          "output_type": "stream",
          "name": "stdout",
          "text": [
            "Null Values Count: ID                                  0\n",
            "Country                             0\n",
            "Population_Size                     0\n",
            "Age                                 0\n",
            "Gender                              0\n",
            "Smoker                              0\n",
            "Years_of_Smoking                    0\n",
            "Cigarettes_per_Day                  0\n",
            "Passive_Smoker                      0\n",
            "Family_History                      0\n",
            "Lung_Cancer_Diagnosis               0\n",
            "Cancer_Stage                   211671\n",
            "Survival_Years                      0\n",
            "Adenocarcinoma_Type                 0\n",
            "Air_Pollution_Exposure              0\n",
            "Occupational_Exposure               0\n",
            "Indoor_Pollution                    0\n",
            "Healthcare_Access                   0\n",
            "Early_Detection                     0\n",
            "Treatment_Type                 213968\n",
            "Developed_or_Developing             0\n",
            "Annual_Lung_Cancer_Deaths           0\n",
            "Lung_Cancer_Prevalence_Rate         0\n",
            "Mortality_Rate                      0\n",
            "dtype: int64\n"
          ]
        }
      ],
      "source": [
        "null_count = df.isnull().sum()\n",
        "print(f\"Null Values Count: {null_count}\")"
      ]
    },
    {
      "cell_type": "markdown",
      "id": "ee0d6298",
      "metadata": {
        "id": "ee0d6298"
      },
      "source": [
        "### Colunas Importantes\n",
        "- Lung_Cancer_Diagnosis\n",
        "\n",
        "### Colunas Desnecessárias\n",
        "- ID\n",
        "\n",
        "### Colunas Nulas\n",
        "- Cancer_Stage\n",
        "- Treatment_Type\n",
        "\n",
        "### Colunas Catégoricas\n",
        "\n",
        "### Colunas Númericas"
      ]
    },
    {
      "cell_type": "code",
      "execution_count": 13,
      "id": "f7a8acb4",
      "metadata": {
        "id": "f7a8acb4",
        "outputId": "a0c82f80-8669-46c1-f95e-c718e4ea9839",
        "colab": {
          "base_uri": "https://localhost:8080/",
          "height": 35
        }
      },
      "outputs": [
        {
          "output_type": "display_data",
          "data": {
            "text/plain": [
              "{'No', 'Yes'}"
            ]
          },
          "metadata": {}
        }
      ],
      "source": [
        "display(set(df['Lung_Cancer_Diagnosis']))"
      ]
    },
    {
      "cell_type": "code",
      "execution_count": 15,
      "id": "702e1c64",
      "metadata": {
        "id": "702e1c64",
        "outputId": "3865e26c-c9d2-4914-db60-ad26eb19cca2",
        "colab": {
          "base_uri": "https://localhost:8080/",
          "height": 513
        }
      },
      "outputs": [
        {
          "output_type": "execute_result",
          "data": {
            "text/plain": [
              "([<matplotlib.patches.Wedge at 0x7977bcdfb0d0>,\n",
              "  <matplotlib.patches.Wedge at 0x7977bce71b90>],\n",
              " [Text(-1.091057728190039, 0.1399751183489092, 'No'),\n",
              "  Text(1.0910577737996638, -0.13997476283716873, 'Yes')],\n",
              " [Text(-0.5951223971945667, 0.07635006455395045, '95.9%'),\n",
              "  Text(0.5951224220725438, -0.07634987063845565, '4.1%')])"
            ]
          },
          "metadata": {},
          "execution_count": 15
        },
        {
          "output_type": "display_data",
          "data": {
            "text/plain": [
              "<Figure size 640x480 with 1 Axes>"
            ],
            "image/png": "[encoded data removed]"
          },
          "metadata": {}
        }
      ],
      "source": [
        "# Pessoas diagnosticadas com câncer de pulmão\n",
        "plt.pie(df['Lung_Cancer_Diagnosis'].value_counts(), labels=df['Lung_Cancer_Diagnosis'].unique(), autopct='%1.1f%%')"
      ]
    },
    {
      "cell_type": "code",
      "execution_count": 17,
      "id": "6443a9c9",
      "metadata": {
        "id": "6443a9c9",
        "outputId": "5c75a712-13d7-4934-e798-04de9ce772aa",
        "colab": {
          "base_uri": "https://localhost:8080/",
          "height": 410
        }
      },
      "outputs": [
        {
          "output_type": "display_data",
          "data": {
            "text/plain": [
              "<Figure size 600x400 with 1 Axes>"
            ],
            "image/png": "[encoded data removed]"
          },
          "metadata": {}
        }
      ],
      "source": [
        "plt.figure(figsize=(6, 4))\n",
        "sb.countplot(x=\"Lung_Cancer_Diagnosis\", data=df, palette=\"coolwarm\", hue=\"Lung_Cancer_Diagnosis\")\n",
        "plt.title(\"Lung_Cancer_Diagnosis\")\n",
        "plt.xlabel(\"Diagnosed with Lung Cancer\")\n",
        "plt.ylabel(\"Count\")\n",
        "plt.show()"
      ]
    },
    {
      "cell_type": "code",
      "execution_count": 18,
      "id": "f036f001",
      "metadata": {
        "id": "f036f001",
        "outputId": "5d9d024c-e954-4878-ebab-49d93992e9c3",
        "colab": {
          "base_uri": "https://localhost:8080/",
          "height": 410
        }
      },
      "outputs": [
        {
          "output_type": "display_data",
          "data": {
            "text/plain": [
              "<Figure size 600x400 with 1 Axes>"
            ],
            "image/png": "[encoded data removed]"
          },
          "metadata": {}
        }
      ],
      "source": [
        "plt.figure(figsize=(6, 4))\n",
        "sb.countplot(x=\"Gender\", data=df, palette=\"pastel\", hue=\"Gender\")\n",
        "plt.title(\"Gender\")\n",
        "plt.xlabel(\"Gender\")\n",
        "plt.ylabel(\"Count\")\n",
        "plt.show()"
      ]
    },
    {
      "cell_type": "code",
      "execution_count": 19,
      "id": "f1addf5a",
      "metadata": {
        "id": "f1addf5a",
        "outputId": "a7cf1f02-6b63-4eef-e6bc-c9b38d37a84e",
        "colab": {
          "base_uri": "https://localhost:8080/",
          "height": 513
        }
      },
      "outputs": [
        {
          "output_type": "execute_result",
          "data": {
            "text/plain": [
              "([<matplotlib.patches.Wedge at 0x7977af60ac90>,\n",
              "  <matplotlib.patches.Wedge at 0x7977af60eb10>],\n",
              " [Text(-0.3386046374527683, 1.0465882186875024, 'Yes'),\n",
              "  Text(0.33860510323750037, -1.0465880679911852, 'No')],\n",
              " [Text(-0.18469343861060086, 0.570866301102274, '60.0%'),\n",
              "  Text(0.1846936926750002, -0.5708662189042828, '40.0%')])"
            ]
          },
          "metadata": {},
          "execution_count": 19
        },
        {
          "output_type": "display_data",
          "data": {
            "text/plain": [
              "<Figure size 640x480 with 1 Axes>"
            ],
            "image/png": "[encoded data removed]"
          },
          "metadata": {}
        }
      ],
      "source": [
        "# Pessoas fumantes\n",
        "plt.pie(df['Smoker'].value_counts(), labels=df['Smoker'].unique(), autopct='%1.1f%%')"
      ]
    },
    {
      "cell_type": "code",
      "execution_count": 20,
      "id": "4e6cd161",
      "metadata": {
        "id": "4e6cd161",
        "outputId": "ed345586-59ae-479b-9690-af0daa800ed0",
        "colab": {
          "base_uri": "https://localhost:8080/",
          "height": 467
        }
      },
      "outputs": [
        {
          "output_type": "execute_result",
          "data": {
            "text/plain": [
              "<Axes: xlabel='Age', ylabel='Count'>"
            ]
          },
          "metadata": {},
          "execution_count": 20
        },
        {
          "output_type": "display_data",
          "data": {
            "text/plain": [
              "<Figure size 640x480 with 1 Axes>"
            ],
            "image/png": "[encoded data removed]"
          },
          "metadata": {}
        }
      ],
      "source": [
        "sb.histplot(data=df, x=\"Age\", bins=30, kde=True)"
      ]
    },
    {
      "cell_type": "code",
      "execution_count": 21,
      "id": "37e2d2e1",
      "metadata": {
        "id": "37e2d2e1",
        "outputId": "6a490eea-fb43-47dc-866d-7872db40508e",
        "colab": {
          "base_uri": "https://localhost:8080/",
          "height": 467
        }
      },
      "outputs": [
        {
          "output_type": "execute_result",
          "data": {
            "text/plain": [
              "<Axes: xlabel='Smoker', ylabel='count'>"
            ]
          },
          "metadata": {},
          "execution_count": 21
        },
        {
          "output_type": "display_data",
          "data": {
            "text/plain": [
              "<Figure size 640x480 with 1 Axes>"
            ],
            "image/png": "[encoded data removed]"
          },
          "metadata": {}
        }
      ],
      "source": [
        "sb.countplot(x='Smoker', hue='Lung_Cancer_Diagnosis', data=df)"
      ]
    },
    {
      "cell_type": "code",
      "execution_count": 22,
      "id": "db969ef9",
      "metadata": {
        "id": "db969ef9",
        "outputId": "1e1415cf-5f0d-4bc1-8a73-0a47b5bd1295",
        "colab": {
          "base_uri": "https://localhost:8080/",
          "height": 467
        }
      },
      "outputs": [
        {
          "output_type": "execute_result",
          "data": {
            "text/plain": [
              "<Axes: xlabel='Gender', ylabel='count'>"
            ]
          },
          "metadata": {},
          "execution_count": 22
        },
        {
          "output_type": "display_data",
          "data": {
            "text/plain": [
              "<Figure size 640x480 with 1 Axes>"
            ],
            "image/png": "[encoded data removed]"
          },
          "metadata": {}
        }
      ],
      "source": [
        "sb.countplot(x='Gender', hue='Lung_Cancer_Diagnosis', data=df)"
      ]
    },
    {
      "cell_type": "code",
      "execution_count": 23,
      "id": "361d3cea",
      "metadata": {
        "id": "361d3cea",
        "outputId": "d974e4d3-8322-482b-b75f-4b7e3786afdf",
        "colab": {
          "base_uri": "https://localhost:8080/",
          "height": 604
        }
      },
      "outputs": [
        {
          "output_type": "execute_result",
          "data": {
            "text/plain": [
              "<Axes: >"
            ]
          },
          "metadata": {},
          "execution_count": 23
        },
        {
          "output_type": "display_data",
          "data": {
            "text/plain": [
              "<Figure size 640x480 with 2 Axes>"
            ],
            "image/png": "[encoded data removed]"
          },
          "metadata": {}
        }
      ],
      "source": [
        "from sklearn.preprocessing import LabelEncoder\n",
        "\n",
        "df['Lung_Cancer_Diagnosis'] = LabelEncoder().fit_transform(df['Lung_Cancer_Diagnosis'])\n",
        "df['Gender'] = LabelEncoder().fit_transform(df['Gender'])\n",
        "\n",
        "corr_matrix = df[['Age', 'Years_of_Smoking', 'Cigarettes_per_Day', 'Lung_Cancer_Diagnosis', 'Gender']].corr()\n",
        "sb.heatmap(corr_matrix, annot=True, cmap='coolwarm')"
      ]
    }
  ],
  "metadata": {
    "kernelspec": {
      "display_name": "3.10.4",
      "language": "python",
      "name": "python3"
    },
    "language_info": {
      "codemirror_mode": {
        "name": "ipython",
        "version": 3
      },
      "file_extension": ".py",
      "mimetype": "text/x-python",
      "name": "python",
      "nbconvert_exporter": "python",
      "pygments_lexer": "ipython3",
      "version": "3.10.4"
    },
    "colab": {
      "provenance": []
    }
  },
  "nbformat": 4,
  "nbformat_minor": 5
}